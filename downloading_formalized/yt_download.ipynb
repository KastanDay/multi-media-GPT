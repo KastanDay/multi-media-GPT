{
 "cells": [
  {
   "cell_type": "markdown",
   "metadata": {},
   "source": [
    "# Proxy info \n",
    "\n",
    "* https://stormproxies.com/clients/residential\n",
    "\n",
    "* Determine public IP: `dig +short myip.opendns.com @resolver1.opendns.com`\n",
    "* Another awesome option: `curl checkip.amazonaws.com`"
   ]
  },
  {
   "cell_type": "markdown",
   "metadata": {},
   "source": [
    "## Download a whole channel\n",
    "\n",
    "check the .txt files for all the video IDs.\n",
    "\n",
    "### mp4 and m4a codecs\n",
    "TODO: I sould be able to specify the preffered codec as mp4.. that way there's less converting to mp4. \n",
    "\n",
    "```bash\n",
    "But this only does BEST quality. We need to specify the height too.\n",
    "original: -f \"bestvideo[ext=mp4]+bestaudio[ext=m4a]/best[ext=mp4]/best\"\n",
    "kas modified: -f \"bestvideo[ext=mp4,height<=360]+bestaudio[ext=m4a]/best[ext=mp4,height<=360]/best\"\n",
    "# close, but need more backup options if those formats aren't available\n",
    "```\n",
    "\n",
    "Is mp4 even the best option?\n",
    "\n",
    "### parallel download (in command line)\n",
    "\n",
    "```bash\n",
    "parallel --line-buffer --jobs 8 yt-dlp -a yt_id_list.txt --download-archive archive.txt {}\n",
    "```\n",
    "\n",
    "Similar using Xargs\n",
    "```bash\n",
    "cat yt_id_list.txt | xargs -n 1 -P 8 yt-dlp --download-archive archive.txt\n",
    "\n",
    "or\n",
    "\n",
    "youtube-dl --get-id \"$PLAYLIST_URL\" \\\n",
    "  | xargs -I '{}' -P 5 youtube-dl 'https://youtube.com/watch?v={}'\n",
    "```"
   ]
  },
  {
   "cell_type": "markdown",
   "metadata": {},
   "source": [
    "## Download the YT-1B dataset\n",
    "\n",
    "Just specify batch_file.\n",
    "\n",
    "```bash\n",
    "cd /home/kastan/thesis/video-pretrained-transformer/yt_download/YT_1B_VAL\n",
    "\n",
    "yt-dlp -f 'bv*[height<=360]+ba/b[height<=480]' --download-archive yt_1b_val_download_record.txt --recode-video 'mp4' --batch-file ../__source/yttemporal1b_ids_val.txt -o '%(id)s_%(channel)s_%(view_count)s_%(title)s.%(ext)s'\n",
    "```"
   ]
  },
  {
   "cell_type": "code",
   "execution_count": null,
   "metadata": {},
   "outputs": [],
   "source": [
    "''' Download who challenls '''\n",
    "\n",
    "# just find the channel URL ending in /videos\n",
    "yt-dlp -f 'bv*[height<=360]+ba/b[height<=480]' --download-archive cinema_sins.txt --recode-video 'mp4' https://www.youtube.com/user/CinemaSins/videos -o '%(id)s_%(channel)s_%(view_count)s_%(title)s.%(ext)s'\n",
    "yt-dlp -f 'bv*[height<=360]+ba/b[height<=480]' --download-archive SethsBikeHacks.txt --recode-video 'mp4' https://www.youtube.com/c/SethsBikeHacks/videos -o '%(id)s_%(channel)s_%(view_count)s_%(title)s.%(ext)s'\n",
    "yt-dlp  'bv*[height<=360]+ba/b[height<=480]' --download-archive nilered.txt --recode-video 'mp4' https://www.youtube.com/c/NileRed/videos -o '%(id)s_%(channel)s_%(view_count)s_%(title)s.%(ext)s'\n",
    "yt-dlp -f 'bv*[height<=360]+ba/b[height<=480]' --download-archive veritasium.txt https://www.youtube.com/c/veritasium/videos -o '%(id)s_%(channel)s_%(view_count)s_%(title)s.%(ext)s'\n",
    "yt-dlp -f 'bv*[height<=360]+ba/b[height<=480]' --download-archive wendover.txt https://www.youtube.com/c/Wendoverproductions/videos -o '%(id)s_%(channel)s_%(view_count)s_%(title)s.%(ext)s'"
   ]
  },
  {
   "cell_type": "markdown",
   "metadata": {},
   "source": [
    "### YT-dl python best options\n",
    "\n",
    "https://github.com/yt-dlp/yt-dlp/blob/master/yt_dlp/YoutubeDL.py#L180\n",
    "\n",
    "To split a file of video IDs into multiple files, use this command:\n",
    "\n",
    "```bash\n",
    "split --number=l/5 yt_id_list.txt outputprefix\n",
    "```\n",
    "\n",
    "\n",
    "\n",
    "-P \"C:/MyVideos\" -P \"temp:tmp\"\n",
    "* set `-P \"temp:tmp\"` to an SSD\n",
    "* set -P \"C:/MyVideos\" to the HDD final location\n",
    "* --write-subs\n",
    "\n",
    "* min_views\n",
    "* download_archive\n",
    "* proxy\n",
    "* postprocessors\n",
    "  * not worth it. just use FFMPEG in parallel later.\n",
    "  * FFmpegVideoConvertorPP,\n",
    "  * FFmpegPostProcessor,\n",
    "\n",
    "\n",
    "#### Extract audio from all videos...\n",
    "`for file in *.mkv; do ffmpeg -i \"$file\" -vn -sn -c copy \"${file%.mkv}.mka; done`\n"
   ]
  },
  {
   "cell_type": "code",
   "execution_count": null,
   "metadata": {},
   "outputs": [],
   "source": [
    "## NOT WORTH IT. \n",
    "\"\"\"\n",
    "import yt_dlp\n",
    "\n",
    "URLS = ['https://www.youtube.com/watch?v=BaW_jenozKc']\n",
    "\n",
    "ydl_opts = {\n",
    "    # 'format': 'm4a/bestaudio/best',\n",
    "    # specify the order of preference using slashes.\n",
    "    'format': 'bv*[height<=360]+ba/b[height<=480]', # b = best quality with BOTH video and audio.\n",
    "    # ℹ️ See help(yt_dlp.postprocessor) for a list of available Postprocessors and their arguments\n",
    "    # 'keepvideo': True,\n",
    "    'postprocessors': [\n",
    "        {  # Extract audio using ffmpeg\n",
    "        'key': 'FFmpegExtractAudio',\n",
    "        'preferredcodec': 'm4a',\n",
    "        },\n",
    "        {  # Extract audio using ffmpeg\n",
    "        'key': 'FFmpegVideoConvertor',\n",
    "        'preferedformat': 'webm',\n",
    "        },\n",
    "    ]\n",
    "}\n",
    "\n",
    "\n",
    "with yt_dlp.YoutubeDL(ydl_opts) as ydl:\n",
    "    error_code = ydl.download(URLS)\n",
    "\"\"\""
   ]
  },
  {
   "cell_type": "markdown",
   "metadata": {},
   "source": [
    "# THE GOLDEN COMMAND\n",
    "\n",
    "```bash\n",
    "yt-dlp -f 'bv*[height<=360]+ba/b[height<=480]' \\\n",
    "  --download-archive yt_1b_train_download_record_{process_num}_of_9.txt \\\n",
    "  -P \"C:/MyVideos\" -P \"temp:/tmp\" \\\n",
    "  --batch-file ../__source/yttemporal1b_ids_val.txt \\\n",
    "  -o '%(id)s_%(channel)s_%(view_count)s_%(title)s.%(ext)s' \\\n",
    "  --min-views 1000 \\\n",
    "  --proxy tbd \\\n",
    "  --write-subs\n",
    "```\n",
    "\n",
    "1. split the csv into 10 chunks. \n",
    "2. output each to a seapara dir, for easy resuming. "
   ]
  },
  {
   "cell_type": "code",
   "execution_count": null,
   "metadata": {},
   "outputs": [],
   "source": []
  },
  {
   "cell_type": "markdown",
   "metadata": {},
   "source": [
    "### Ray + subprocess for parallel bash\n",
    "\n",
    "everything stored here: `/mnt/storage_hdd/thesis/yt_1b_dataset/yt_1b_train`"
   ]
  },
  {
   "cell_type": "code",
   "execution_count": 29,
   "metadata": {},
   "outputs": [],
   "source": [
    "import ray \n",
    "import subprocess\n",
    "import shlex"
   ]
  },
  {
   "cell_type": "code",
   "execution_count": 30,
   "metadata": {},
   "outputs": [
    {
     "name": "stdout",
     "output_type": "stream",
     "text": [
      "['yt-dlp', '-f', 'bv*[height<=360]+ba/b[height<=480]', '-P', '/mnt/storage_hdd/thesis/yt_1b_dataset/yt_1b_train/parallel_0', '--batch-file', '/home/kastan/thesis/video-pretrained-transformer/yt_download/__source/train_id_collection/yt_1b_train_id_list_0.txt', '--download-archive', '/mnt/storage_hdd/thesis/yt_1b_dataset/yt_1b_train/parallel_0/yt_1b_train_download_record_0.txt', '-P', 'temp:/tmp', '-N', '5', '-o', '%(id)s_%(channel)s_%(view_count)s_%(title)s.%(ext)s', '--min-views', '500', '--proxy', '69.30.217.114:19014', '--write-subs']\n",
      "\n",
      "['yt-dlp', '-f', 'bv*[height<=360]+ba/b[height<=480]', '-P', '/mnt/storage_hdd/thesis/yt_1b_dataset/yt_1b_train/parallel_1', '--batch-file', '/home/kastan/thesis/video-pretrained-transformer/yt_download/__source/train_id_collection/yt_1b_train_id_list_1.txt', '--download-archive', '/mnt/storage_hdd/thesis/yt_1b_dataset/yt_1b_train/parallel_1/yt_1b_train_download_record_1.txt', '-P', 'temp:/tmp', '-N', '5', '-o', '%(id)s_%(channel)s_%(view_count)s_%(title)s.%(ext)s', '--min-views', '500', '--proxy', '69.30.217.114:19014', '--write-subs']\n",
      "Paralle downloads:  10\n"
     ]
    }
   ],
   "source": [
    "golden_command = \"\"\"yt-dlp -f 'bv*[height<=360]+ba/b[height<=480]' \\\n",
    "  -P /mnt/storage_hdd/thesis/yt_1b_dataset/yt_1b_train/parallel_{process_num} \\\n",
    "  --batch-file /home/kastan/thesis/video-pretrained-transformer/yt_download/__source/train_id_collection/yt_1b_train_id_list_{process_num}.txt \\\n",
    "  --download-archive /mnt/storage_hdd/thesis/yt_1b_dataset/yt_1b_train/parallel_{process_num}/yt_1b_train_download_record_{process_num}.txt \\\n",
    "  -P 'temp:/tmp' \\\n",
    "  -N 5 \\\n",
    "  -o '%(id)s_%(channel)s_%(view_count)s_%(title)s.%(ext)s' \\\n",
    "  --min-views 500 \\\n",
    "  --proxy  \\\n",
    "  --write-subs\"\"\"\n",
    "  \n",
    "final_subprocess_commands = []\n",
    "for i in range(10):\n",
    "  final_subprocess_commands.append(shlex.split(golden_command.format(process_num=i)))\n",
    "print(final_subprocess_commands[0])\n",
    "print()\n",
    "print(final_subprocess_commands[1])\n",
    "print(\"Parallel downloads: \", len(final_subprocess_commands))"
   ]
  },
  {
   "cell_type": "code",
   "execution_count": null,
   "metadata": {},
   "outputs": [],
   "source": [
    "\"\"\" MAIN \"\"\"\n",
    "ray.shutdown()\n",
    "ray.init()\n",
    "\n",
    "@ray.remote\n",
    "def persistent_download(subprocess_command):\n",
    "  result = subprocess.run(subprocess_command)\n",
    "  return result\n",
    "\n",
    "# Launch four parallel square tasks.\n",
    "futures = [persistent_download.remote(cmd) for cmd in final_subprocess_commands]\n",
    "\n",
    "# Retrieve results.\n",
    "all_results = ray.get(futures)\n",
    "\n",
    "print(len(all_results))\n",
    "print(all_results)"
   ]
  },
  {
   "cell_type": "code",
   "execution_count": null,
   "metadata": {},
   "outputs": [],
   "source": []
  },
  {
   "cell_type": "code",
   "execution_count": null,
   "metadata": {},
   "outputs": [],
   "source": [
    "''' TESTING WITH SUBPROCESS. WORKS ✅ (cant use check-output)'''\n",
    "\n",
    "test_command = \"\"\"yt-dlp -f 'bv*[height<=360]+ba/b[height<=480]' \\\n",
    "  -P /home/kastan/thesis/video-pretrained-transformer/test/ray_test \\\n",
    "  --batch-file /home/kastan/thesis/video-pretrained-transformer/test/ray_test/small_batch.txt \\\n",
    "  --download-archive /home/kastan/thesis/video-pretrained-transformer/test/ray_test/ray_test_download_record.txt \\\n",
    "  -P 'temp:/tmp' \\\n",
    "  -N 5 \\\n",
    "  -o '%(id)s_%(channel)s_%(view_count)s_%(title)s.%(ext)s' \\\n",
    "  --min-views 500 \\\n",
    "  --proxy 69.30.217.114:19014 \\\n",
    "  --write-subs\"\"\"\n",
    "  \n",
    "# single itme test\n",
    "test_command = shlex.split(test_command)\n",
    "result = subprocess.run(test_command)"
   ]
  }
 ],
 "metadata": {
  "kernelspec": {
   "display_name": "general_has_everything",
   "language": "python",
   "name": "python3"
  },
  "language_info": {
   "codemirror_mode": {
    "name": "ipython",
    "version": 3
   },
   "file_extension": ".py",
   "mimetype": "text/x-python",
   "name": "python",
   "nbconvert_exporter": "python",
   "pygments_lexer": "ipython3",
   "version": "3.9.13 | packaged by conda-forge | (main, May 27 2022, 16:58:50) \n[GCC 10.3.0]"
  },
  "orig_nbformat": 4,
  "vscode": {
   "interpreter": {
    "hash": "9b69eb772e953fa94c7e6a13e20e5676ab72e6ff0f5efef62f5cddb3889daa1c"
   }
  }
 },
 "nbformat": 4,
 "nbformat_minor": 2
}
