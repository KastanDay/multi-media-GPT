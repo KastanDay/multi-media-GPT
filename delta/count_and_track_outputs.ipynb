{
 "cells": [
  {
   "cell_type": "code",
   "execution_count": 1,
   "metadata": {},
   "outputs": [],
   "source": [
    "import jsonlines\n",
    "import pathlib\n",
    "import os"
   ]
  },
  {
   "cell_type": "code",
   "execution_count": 2,
   "metadata": {},
   "outputs": [],
   "source": [
    "\n",
    "dir_name = 'parallel_16'\n",
    "# dir = \"/u/kastanday/parallel_pdg/parallel_10_output.jsonl\"\n",
    "LOCAL_RESULTS_JSONL     = f'/scratch/bbki/kastanday/whisper/{dir_name}_whisper_output.jsonl'\n",
    "LOCAL_ERRORS_JSONL      = f'/scratch/bbki/kastanday/whisper/{dir_name}_whisper_errors.jsonl'\n",
    "LOCAL_EMPTY_JSONL       = f'/scratch/bbki/kastanday/whisper/{dir_name}_whisper_empty.jsonl'\n",
    "LOCAL_ALL_VIDEOS_DIR   = f'/scratch/bbki/kastanday/whisper/{dir_name}'\n",
    "REMOTE_VIDEO_DIR        = f'/scratch/bbki/kastanday/whisper/{dir_name}'\n"
   ]
  },
  {
   "cell_type": "code",
   "execution_count": 3,
   "metadata": {},
   "outputs": [
    {
     "name": "stdout",
     "output_type": "stream",
     "text": [
      "Checking batch 20...\n",
      "For whisper parallel 20, the total number of lines processed is 43733\n",
      "something wrong with batch 20 - we have processed too many videos!\n",
      "Checking batch 21...\n",
      "For whisper parallel 21, the total number of lines processed is 39618\n",
      "something wrong with batch 21 - we have processed too many videos!\n",
      "Checking batch 22...\n",
      "For whisper parallel 22, the total number of lines processed is 30250\n",
      "something wrong with batch 22 - we have processed too many videos!\n",
      "Checking batch 23...\n",
      "For whisper parallel 23, the total number of lines processed is 29016\n",
      "something wrong with batch 23 - we have processed too many videos!\n",
      "Checking batch 24...\n",
      "For whisper parallel 24, the total number of lines processed is 31891\n",
      "something wrong with batch 24 - we have processed too many videos!\n",
      "Checking batch 25...\n",
      "No whisper files processed! oops!\n",
      "No whisper error files!\n",
      "No whisper empty files!\n",
      "For whisper parallel 25, the total number of lines processed is 0\n",
      "NOT finished batch 25, have only processed 0\n",
      "Checking batch 26...\n",
      "For whisper parallel 26, the total number of lines processed is 23835\n",
      "finished batch 26\n",
      "Checking batch 27...\n",
      "For whisper parallel 27, the total number of lines processed is 23812\n",
      "finished batch 27\n",
      "Checking batch 28...\n",
      "For whisper parallel 28, the total number of lines processed is 23645\n",
      "finished batch 28\n",
      "Checking batch 29...\n",
      "For whisper parallel 29, the total number of lines processed is 22625\n",
      "finished batch 29\n"
     ]
    }
   ],
   "source": [
    "# For whisper\n",
    "\n",
    "def count_files(dir_name):\n",
    "    if not dir_name:\n",
    "        return 0\n",
    "    num_lines = 0\n",
    "    with jsonlines.open(dir_name, 'r') as reader:\n",
    "        for line in reader.iter(skip_invalid = True):\n",
    "            num_lines += 1\n",
    "    # print(f'There are {num_lines} in {dir_name}')\n",
    "    return num_lines\n",
    "def total_whisper(batch_num):\n",
    "    LOCAL_RESULTS_JSONL     = f'/scratch/bbki/kastanday/whisper/parallel_{batch_num}_whisper_output.jsonl'\n",
    "\n",
    "    # Commenting out the ERRORS because I believe we are writing twice to it\n",
    "    LOCAL_ERRORS_JSONL      = f'/scratch/bbki/kastanday/whisper/parallel_{batch_num}_whisper_errors.jsonl'\n",
    "    LOCAL_EMPTY_JSONL       = f'/scratch/bbki/kastanday/whisper/parallel_{batch_num}_whisper_empty.jsonl'\n",
    "    if not os.path.isfile(LOCAL_RESULTS_JSONL):\n",
    "        print(\"No whisper files processed! oops!\")\n",
    "        LOCAL_RESULTS_JSONL = None\n",
    "    if not os.path.isfile(LOCAL_ERRORS_JSONL):\n",
    "        print(\"No whisper error files!\")\n",
    "        LOCAL_ERRORS_JSONL = None\n",
    "    if not os.path.isfile(LOCAL_EMPTY_JSONL):\n",
    "        print(\"No whisper empty files!\")\n",
    "        LOCAL_EMPTY_JSONL = None\n",
    "    total_num_done = sum([count_files(dir_name) for dir_name in [LOCAL_RESULTS_JSONL, LOCAL_ERRORS_JSONL, LOCAL_EMPTY_JSONL]])\n",
    "    print(f'For whisper parallel {batch_num}, the total number of lines processed is',\n",
    "    total_num_done)\n",
    "    return total_num_done\n",
    "whisper_to_check = range(20, 30) # 10, 30\n",
    "for i in whisper_to_check:\n",
    "    print(f'Checking batch {i}...')\n",
    "    try:\n",
    "        num_vids = total_whisper(i)\n",
    "        if num_vids > 25000:\n",
    "            print(f'something wrong with batch {i} - we have processed too many videos!')\n",
    "        elif num_vids > 20000:\n",
    "            print(f'finished batch {i}')\n",
    "        else:\n",
    "            print(f'NOT finished batch {i}, have only processed {num_vids}')\n",
    "    except Exception as e:\n",
    "        print(e)\n",
    "        print(f'Something wrong with batch {i}, investgate')\n",
    "        \n"
   ]
  },
  {
   "cell_type": "code",
   "execution_count": 7,
   "metadata": {},
   "outputs": [
    {
     "name": "stdout",
     "output_type": "stream",
     "text": [
      "Checking batch 11...\n",
      "For clip parallel 11, the total number of lines processed is 41\n",
      "NOT finished batch 11, have only processed 41\n",
      "Checking batch 12...\n",
      "For clip parallel 12, the total number of lines processed is 7877\n",
      "NOT finished batch 12, have only processed 7877\n"
     ]
    }
   ],
   "source": [
    "# For clip\n",
    "\n",
    "def total_clip(batch_num):\n",
    "    LOCAL_RESULTS_JSONL     = f'/scratch/bbki/kastanday/whisper/parallel_{batch_num}_clip_completed_stems.jsonl'\n",
    "    if not os.path.isfile(LOCAL_RESULTS_JSONL):\n",
    "        print(\"No clip files processed! oops!\")\n",
    "        LOCAL_RESULTS_JSONL = None\n",
    "    total_num_done = count_files(LOCAL_RESULTS_JSONL)\n",
    "    print(f'For clip parallel {batch_num}, the total number of lines processed is',\n",
    "    total_num_done)\n",
    "    return total_num_done\n",
    "\n",
    "clip_to_check = [11, 12]\n",
    "\n",
    "for i in clip_to_check:\n",
    "    print(f'Checking batch {i}...')\n",
    "    try:\n",
    "        num_vids = total_clip(i)\n",
    "        if num_vids > 25000:\n",
    "            print(f'something wrong with batch {i} - we have processed too many videos!')\n",
    "        elif num_vids > 17000:\n",
    "            print(f'finished batch {i}')\n",
    "        else:\n",
    "            print(f'NOT finished batch {i}, have only processed {num_vids}')\n",
    "    except Exception as e:\n",
    "        print(e)\n",
    "        print(f'Something wrong with batch {i}, investgate')\n",
    "        \n"
   ]
  },
  {
   "cell_type": "code",
   "execution_count": 9,
   "metadata": {},
   "outputs": [
    {
     "name": "stdout",
     "output_type": "stream",
     "text": [
      "42944\n",
      "27306\n"
     ]
    }
   ],
   "source": [
    "batch_num = 17\n",
    "dir_name     = f'/scratch/bbki/kastanday/whisper/parallel_{batch_num}_whisper_output.jsonl'\n",
    "all_stems = []\n",
    "with jsonlines.open(dir_name, 'r') as reader:\n",
    "    for line in reader.iter(skip_invalid = True):\n",
    "        all_stems.append(line)\n",
    "        # print(line)\n",
    "        # break\n",
    "\n",
    "print(len(all_stems))\n",
    "print(len(set(all_stems)))\n"
   ]
  },
  {
   "cell_type": "code",
   "execution_count": 6,
   "metadata": {},
   "outputs": [
    {
     "name": "stdout",
     "output_type": "stream",
     "text": [
      "37013\n",
      "line contains invalid json: Extra data: line 1 column 251279 (char 251278) (line 3796)\n",
      "There are 3795 in /scratch/bbki/kastanday/whisper/parallel_16_whisper_output.jsonl\n"
     ]
    }
   ],
   "source": [
    "batch_num = 16\n",
    "dir_name     = f'/scratch/bbki/kastanday/whisper/parallel_{batch_num}_whisper_output.jsonl'\n",
    "if not dir_name:\n",
    "    print(0)\n",
    "num_lines = 0\n",
    "with jsonlines.open(dir_name, 'r') as reader:\n",
    "    print(len(list(reader.iter(skip_invalid=True))))\n",
    "\n",
    "with jsonlines.open(dir_name, 'r') as reader:\n",
    "    try:\n",
    "        for line in reader.iter():\n",
    "            num_lines += 1\n",
    "    except Exception as e:\n",
    "        print(e)\n",
    "print(f'There are {num_lines} in {dir_name}')"
   ]
  },
  {
   "cell_type": "markdown",
   "metadata": {},
   "source": [
    "FILTER METHOD"
   ]
  },
  {
   "cell_type": "code",
   "execution_count": 18,
   "metadata": {},
   "outputs": [],
   "source": [
    "import json\n",
    "import jsonlines\n",
    "import glob\n",
    "import pathlib\n",
    "dir_name = 'parallel_15'\n",
    "LOCAL_RESULTS_JSONL     = f'/scratch/bbki/kastanday/whisper/{dir_name}_whisper_output.jsonl'\n",
    "REMOTE_VIDEO_DIR    = f'/scratch/bbki/kastanday/whisper/{dir_name}'\n",
    "FINAL_WHISPER_EMPTY_JSONL = f'/scratch/bbki/kastanday/whisper/{dir_name}_whisper_empty.jsonl'\n",
    "LOCAL_RESULTS_CLIP     = f'/scratch/bbki/kastanday/whisper/{dir_name}_clip_completed_stems.jsonl'\n",
    "REMOTE_VIDEO_DIR    = f'/scratch/bbki/kastanday/whisper/{dir_name}'\n"
   ]
  },
  {
   "cell_type": "code",
   "execution_count": 19,
   "metadata": {},
   "outputs": [
    {
     "name": "stdout",
     "output_type": "stream",
     "text": [
      "19203\n"
     ]
    }
   ],
   "source": [
    "video_file_stems = [] # all stems\n",
    "with jsonlines.open(LOCAL_RESULTS_JSONL) as reader:\n",
    "    for _, obj in enumerate(reader.iter(skip_invalid=True)):\n",
    "        json_objs = json.loads(obj)\n",
    "        for json_obj in json_objs:\n",
    "            video_file_stems.append(json_obj['video_filename_stem'])\n",
    "print(len(set(video_file_stems)))"
   ]
  },
  {
   "cell_type": "code",
   "execution_count": 20,
   "metadata": {},
   "outputs": [
    {
     "name": "stdout",
     "output_type": "stream",
     "text": [
      "19199\n",
      "4\n"
     ]
    }
   ],
   "source": [
    "already_processed_video_stems = set()\n",
    "\n",
    "# TODO:\n",
    "with jsonlines.open(LOCAL_RESULTS_CLIP, mode = 'r') as reader:\n",
    "    for line in reader.iter(skip_invalid = True):\n",
    "        if line:\n",
    "            already_processed_video_stems.add( json.loads(line) )\n",
    "print(len(already_processed_video_stems))\n",
    "video_file_stem_set = set(video_file_stems)\n",
    "to_process = video_file_stem_set - already_processed_video_stems\n",
    "print(len(to_process))\n",
    "\n"
   ]
  },
  {
   "cell_type": "code",
   "execution_count": 14,
   "metadata": {},
   "outputs": [
    {
     "name": "stdout",
     "output_type": "stream",
     "text": [
      "Total input video files: 25000\n",
      "Number of existing files, 21050\n",
      "👉👉fp /scratch/bbki/kastanday/whisper/parallel_22_whisper_output.jsonl\n",
      "Number of empty files,  1532\n",
      "Number of existing whisper output: 22582\n",
      "Number of remaining whisper input: 2418\n"
     ]
    }
   ],
   "source": [
    "# Figuring out why we are getting duplicates\n",
    "video_input_dir = pathlib.Path(REMOTE_VIDEO_DIR)\n",
    "\n",
    "# Given in init\n",
    "fp = str(LOCAL_RESULTS_JSONL)\n",
    "\n",
    "# todo: glob all files in input_video_dir\n",
    "\n",
    "# glob files in INPUT_DIR_TO_TRANSCRIBE\n",
    "files = glob.glob(os.path.join(video_input_dir, '*'), recursive = True)\n",
    "files = [pathlib.Path(file) for file in files]\n",
    "## EXAMPLE CODE.\n",
    "print(\"Total input video files:\", len(files))\n",
    "# print(files)\n",
    "# whisper_output = str(os.path.join(video_input_dir.parent, video_input_dir.stem + '_whisper_output.jsonl'))\n",
    "\n",
    "# self.stem_to_whisper\n",
    "# self.output_path\n",
    "\n",
    "# self.video_file_stems\n",
    "existing_whisper_output = set()\n",
    "# These are the successfully processed files\n",
    "with jsonlines.open(fp, mode = 'r') as reader:\n",
    "    for line in reader.iter(skip_invalid=True):\n",
    "        if line:\n",
    "            line = json.loads(line)\n",
    "            empty_fn = pathlib.Path(line[0][\"video_filepath\"]).name\n",
    "            existing_whisper_output.add(pathlib.Path(os.path.join(video_input_dir, empty_fn)))\n",
    "print(\"Number of existing files,\", len(existing_whisper_output))\n",
    "num_exist = len(existing_whisper_output)\n",
    "print(\"👉👉fp\", fp)\n",
    "fp = str(FINAL_WHISPER_EMPTY_JSONL)\n",
    "with jsonlines.open(fp, mode = 'r') as reader:\n",
    "    for line in reader.iter(skip_invalid=True):\n",
    "        if line:\n",
    "            # line = json.loads(line)\n",
    "            filename = pathlib.Path(line).name\n",
    "            existing_whisper_output.add(pathlib.Path(os.path.join(video_input_dir, filename)))\n",
    "print(\"Number of empty files, \", len(existing_whisper_output) - num_exist)\n",
    "\n",
    "\n",
    "print(\"Number of existing whisper output:\", len(existing_whisper_output))\n",
    "remaining_whisper_input = set(files) - set(existing_whisper_output)\n",
    "print(\"Number of remaining whisper input:\", len(remaining_whisper_input))\n",
    "# list(remaining_whisper_input)"
   ]
  },
  {
   "cell_type": "code",
   "execution_count": 30,
   "metadata": {},
   "outputs": [
    {
     "data": {
      "text/plain": [
       "22583"
      ]
     },
     "execution_count": 30,
     "metadata": {},
     "output_type": "execute_result"
    }
   ],
   "source": [
    "fp = str(FINAL_WHISPER_EMPTY_JSONL)\n",
    "with jsonlines.open(fp, mode = 'r') as reader:\n",
    "    for line in reader.iter(skip_invalid=True):\n",
    "        if line:\n",
    "            # line = json.loads(line)\n",
    "            filename = pathlib.Path(line).name\n",
    "            existing_whisper_output.add(str(os.path.join(video_input_dir, filename)))\n",
    "len(existing_whisper_output)"
   ]
  },
  {
   "cell_type": "code",
   "execution_count": 28,
   "metadata": {},
   "outputs": [
    {
     "name": "stdout",
     "output_type": "stream",
     "text": [
      "Number of existing whisper output: 22583\n",
      "25000\n",
      "/scratch/bbki/kastanday/whisper/parallel_22/8QmnODMZC_k_Counter Productive_207_Caso Dinero vs B  Nasty (Title Tournament).live_chat.json\n",
      "/scratch/bbki/kastanday/whisper/parallel_22/C48uq-G8boo_Rock Solid Motorsports_1321_1973 Ford Mustang Mach 1 test drive.webm\n",
      "Number of remaining whisper input: 25000\n"
     ]
    }
   ],
   "source": [
    "print(\"Number of existing whisper output:\", len(existing_whisper_output))\n",
    "print(len(set(files)))\n",
    "print(list(files)[0])\n",
    "print(list(existing_whisper_output)[0])\n",
    "remaining_whisper_input = set(files) - set(existing_whisper_output)\n",
    "print(\"Number of remaining whisper input:\", len(remaining_whisper_input))"
   ]
  },
  {
   "cell_type": "code",
   "execution_count": 50,
   "metadata": {},
   "outputs": [
    {
     "name": "stdout",
     "output_type": "stream",
     "text": [
      "<class 'pathlib.PosixPath'>\n",
      "/scratch/bbki/kastanday/whisper/parallel_22/3iAaFmB_0mg_Mair Isabell_2278_Fall Houseplant Tour! Part 2： All Other Rooms ｜ Plant Set Up At My New House! ｜ Oregon Fall 2020.webm\n",
      "/scratch/bbki/kastanday/whisper/parallel_22/1NV7uPDvm8E_Erick Apking_541_Cookware Cleaning    How to Clean All Clad Stainless Steel Cookware.webm\n",
      "/scratch/bbki/kastanday/whisper/parallel_22/99TmRyFtaKk_RagaMuffyn Garage_487_SS 14-＂The Big Dirty＂.mkv\n",
      "/scratch/bbki/kastanday/whisper/parallel_22/cIOXQ2QwSZ0_Keara LaChelle_244_Loreal Infallible VS I Am Magic Foundation on Dry Skin!.webm\n",
      "/scratch/bbki/kastanday/whisper/parallel_22/5nY-cHBL-oM_NatCall_6249_Opening Day Goose Hunt in Arkansas.webm\n",
      "/scratch/bbki/kastanday/whisper/parallel_22/bE1Nyz1RY0M_HuffPost_6007_'Bodybuilding Is Drag For Straight People' ｜ Personal.webm\n",
      "/scratch/bbki/kastanday/whisper/parallel_22/crsOEQSGjlw_theperennialplate_1183_A Day in The Life - The Perennial Plate Episode 62.webm\n",
      "/scratch/bbki/kastanday/whisper/parallel_22/ChnDYAsCrXU_whitedirectory5_257_Crook And Pack Smithfield VA.webm\n",
      "/scratch/bbki/kastanday/whisper/parallel_22/5qr6KJFhcyQ_Hawaii Pacific Health_10922_Level III Trauma Center - Wilcox Medical Center.webm\n",
      "/scratch/bbki/kastanday/whisper/parallel_22/CeCRupEWrPk_News 5 Cleveland_385_Rape trial begins for former WEWS sports anchor.mkv\n"
     ]
    }
   ],
   "source": [
    "files = list(files)\n",
    "existing_whisper_output = list(existing_whisper_output)\n",
    "# print(type(files[0]))\n",
    "num_overlap = 0\n",
    "for i in files[40:50]:\n",
    "    print(i)\n"
   ]
  },
  {
   "cell_type": "code",
   "execution_count": 51,
   "metadata": {},
   "outputs": [
    {
     "name": "stdout",
     "output_type": "stream",
     "text": [
      "/scratch/bbki/kastanday/whisper/parallel_22/3MsVmyqiJ0A_everydaygourmettv_1026_Zucchini Loaf \\uff5c Everyday Gourmet S6 E24.webm\"}]\n",
      "/scratch/bbki/kastanday/whisper/parallel_22/AspG-RseRlI_CHOICE Australia_2458167_Why CHOICE\\uff1f.webm\"}]\n",
      "/scratch/bbki/kastanday/whisper/parallel_22/5VuW7Xi8qN8_Sparkle Spice_151340_Play doh surprise eggs help learn colors.webm\"}]\n",
      "/scratch/bbki/kastanday/whisper/parallel_22/5plraaTl1oY_Lil Linto_2088_Sxottii \\u2022 Elephant In The Room \\u2022 Shot By. @Sovisuals @WSHH REACTION.webm\"}]\n",
      "/scratch/bbki/kastanday/whisper/parallel_22/CEnXJsHlaek_Silicon Valley Woodworker_16613_Build a router table cart!.webm\n",
      "/scratch/bbki/kastanday/whisper/parallel_22/C7mhqy-3CfM_EnvironmentAgencyTV_245_Flood Friday 3： How to report a flood.webm\n",
      "/scratch/bbki/kastanday/whisper/parallel_22/7uXEru89uyI_Imagen Entretenimiento_597_Wikichava desde el circo Atayde.webm\n",
      "/scratch/bbki/kastanday/whisper/parallel_22/aGOb57E0dAY_Narc Survivor_30640_The Narcissist Has Multiple Personalities.webm\"}]\n",
      "/scratch/bbki/kastanday/whisper/parallel_22/0zDBw6ugd8o_Finished Basements NJ_6462_This bar is right out of a hotel!.webm\"}]\n",
      "/scratch/bbki/kastanday/whisper/parallel_22/0eJfu4TTYgc_Fox Business_15736_California\\u2019s Orange County town challenges sanctuary policies.webm\"}]\n"
     ]
    }
   ],
   "source": [
    "for i in existing_whisper_output[40:50]:\n",
    "    print(i)"
   ]
  },
  {
   "cell_type": "code",
   "execution_count": 13,
   "metadata": {},
   "outputs": [
    {
     "name": "stdout",
     "output_type": "stream",
     "text": [
      "Total input video files: 25000\n",
      "bxm1HP8Kt3E_UM Alumni + Friends_246_'Canes Class Crash 2020.webm\n"
     ]
    }
   ],
   "source": [
    "# Figuring out why we are getting duplicates\n",
    "video_input_dir = pathlib.Path(REMOTE_VIDEO_DIR)\n",
    "\n",
    "\n",
    "fp = str(LOCAL_RESULTS_JSONL)\n",
    "\n",
    "# todo: glob all files in input_video_dir\n",
    "\n",
    "# glob files in INPUT_DIR_TO_TRANSCRIBE\n",
    "files = glob.glob(os.path.join(video_input_dir, '*'), recursive = True)\n",
    "files = [pathlib.Path(file) for file in files]\n",
    "## EXAMPLE CODE.\n",
    "print(\"Total input video files:\", len(files))\n",
    "# print(files)\n",
    "# whisper_output = str(os.path.join(video_input_dir.parent, video_input_dir.stem + '_whisper_output.jsonl'))\n",
    "\n",
    "# self.stem_to_whisper\n",
    "# self.output_path\n",
    "\n",
    "# self.video_file_stems\n",
    "existing_whisper_output = set()\n",
    "# These are the successfully processed files\n",
    "with jsonlines.open(fp, mode = 'r') as reader:\n",
    "    for line in reader.iter(skip_invalid=True):\n",
    "        if line:\n",
    "            line = json.loads(line)\n",
    "            print(pathlib.Path(line[0][\"video_filepath\"]).name)\n",
    "            break"
   ]
  },
  {
   "cell_type": "markdown",
   "metadata": {},
   "source": [
    "print(files[2])"
   ]
  }
 ],
 "metadata": {
  "kernelspec": {
   "display_name": "Python 3.8.13 ('v4_clip_preprocessing_yt1b')",
   "language": "python",
   "name": "python3"
  },
  "language_info": {
   "codemirror_mode": {
    "name": "ipython",
    "version": 3
   },
   "file_extension": ".py",
   "mimetype": "text/x-python",
   "name": "python",
   "nbconvert_exporter": "python",
   "pygments_lexer": "ipython3",
   "version": "3.8.13"
  },
  "orig_nbformat": 4,
  "vscode": {
   "interpreter": {
    "hash": "2d3db6712dfc0a86429b8fb30f027b0a323b7f50feb5f633548a08dcfe308692"
   }
  }
 },
 "nbformat": 4,
 "nbformat_minor": 2
}
