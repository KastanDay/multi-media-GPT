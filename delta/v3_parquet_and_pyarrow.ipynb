{
 "cells": [
  {
   "cell_type": "code",
   "execution_count": 1,
   "metadata": {},
   "outputs": [
    {
     "name": "stderr",
     "output_type": "stream",
     "text": [
      "/scratch/bbki/kastanday/conda_envs/envs/v3_clip_preprocessing_yt1b/lib/python3.8/site-packages/tqdm/auto.py:22: TqdmWarning: IProgress not found. Please update jupyter and ipywidgets. See https://ipywidgets.readthedocs.io/en/stable/user_install.html\n",
      "  from .autonotebook import tqdm as notebook_tqdm\n"
     ]
    }
   ],
   "source": [
    "import os \n",
    "import cv2\n",
    "import numpy as np\n",
    "import clip\n",
    "import torch\n",
    "from PIL import Image\n",
    "from tqdm import tqdm\n",
    "import pathlib\n",
    "from pathlib import Path\n",
    "import glob\n",
    "import argparse\n",
    "import json\n",
    "import jsonlines\n",
    "import json_numpy\n",
    "import pandas as pd\n",
    "import pyarrow as pa\n",
    "import time"
   ]
  },
  {
   "cell_type": "code",
   "execution_count": null,
   "metadata": {},
   "outputs": [],
   "source": []
  },
  {
   "cell_type": "code",
   "execution_count": 27,
   "metadata": {},
   "outputs": [
    {
     "ename": "TypeError",
     "evalue": "Do not call Table's constructor directly, use one of the `Table.from_*` functions instead.",
     "output_type": "error",
     "traceback": [
      "\u001b[0;31m---------------------------------------------------------------------------\u001b[0m",
      "\u001b[0;31mTypeError\u001b[0m                                 Traceback (most recent call last)",
      "Cell \u001b[0;32mIn [27], line 1\u001b[0m\n\u001b[0;32m----> 1\u001b[0m table \u001b[39m=\u001b[39m pa\u001b[39m.\u001b[39;49mTable()\u001b[39m.\u001b[39mfrom_pydict({\u001b[39m'\u001b[39m\u001b[39ma\u001b[39m\u001b[39m'\u001b[39m: [\u001b[39m1\u001b[39m, \u001b[39m2\u001b[39m, \u001b[39m3\u001b[39m], \u001b[39m'\u001b[39m\u001b[39mb\u001b[39m\u001b[39m'\u001b[39m: [\u001b[39m4\u001b[39m, \u001b[39m5\u001b[39m, \u001b[39m6\u001b[39m]})\n\u001b[1;32m      3\u001b[0m \u001b[39m# table.append( )\u001b[39;00m\n\u001b[1;32m      5\u001b[0m \u001b[39mprint\u001b[39m(table)\n",
      "File \u001b[0;32m/scratch/bbki/kastanday/conda_envs/envs/v3_clip_preprocessing_yt1b/lib/python3.8/site-packages/pyarrow/table.pxi:2718\u001b[0m, in \u001b[0;36mpyarrow.lib.Table.__init__\u001b[0;34m()\u001b[0m\n",
      "\u001b[0;31mTypeError\u001b[0m: Do not call Table's constructor directly, use one of the `Table.from_*` functions instead."
     ]
    }
   ],
   "source": [
    "table = pa.Table().from_pydict({'a': [1, 2, 3], 'b': [4, 5, 6]})\n",
    "\n",
    "\n",
    "print(table)"
   ]
  },
  {
   "cell_type": "code",
   "execution_count": 79,
   "metadata": {},
   "outputs": [],
   "source": [
    "video_filepath = '/tmp/hello.py'\n",
    "i = 9\n",
    "# one_segment_output = pa.Table.from_pandas(pd.DataFrame({\n",
    "#                 \"video_stem\": [str(Path(video_filepath).stem), 'hi'],\n",
    "#                 \"segment_id\": [str(Path(video_filepath).stem) + f\"_{i}\", 'hi'],\n",
    "#                 \"segment_index\": [i, i],\n",
    "# }))\n",
    "\n",
    "# df = pd.DataFrame()\n",
    "list_ofTihgsn = []\n",
    "for i in range(5):\n",
    "  one_segment_output = pd.DataFrame({\n",
    "                  \"video_stem\": \"VERSION 2\",\n",
    "                  \"segment_id\": \"VERSION_2\" + f\"_{i}\",\n",
    "                  \"segment_index\": 69,\n",
    "  }, index=[0])\n",
    "  list_ofTihgsn.append(one_segment_output)\n",
    "\n",
    "segs = pd.concat(list_ofTihgsn, ignore_index=True)\n",
    "fastparquet.write('outfile.parq',segs, append=True)"
   ]
  },
  {
   "cell_type": "code",
   "execution_count": 54,
   "metadata": {},
   "outputs": [],
   "source": [
    "two_segment_output = {\n",
    "                \"video_stem\": str(Path(video_filepath).stem),\n",
    "                \"segment_id\": str(Path(video_filepath).stem) + f\"_{i}\",\n",
    "                \"segment_index\": i,\n",
    "}\n",
    "one_segment_output = {\n",
    "                \"video_stem\": \"str(Path(video_filepath).stem)\",\n",
    "                \"segment_id\": \"str(Path(video_filepath).stem)\" + f\"_{i}\",\n",
    "                \"segment_index\": 10,\n",
    "}"
   ]
  },
  {
   "cell_type": "code",
   "execution_count": 55,
   "metadata": {},
   "outputs": [],
   "source": [
    "list_of_segment_outputs = [one_segment_output, two_segment_output]"
   ]
  },
  {
   "cell_type": "code",
   "execution_count": 67,
   "metadata": {},
   "outputs": [
    {
     "data": {
      "text/plain": [
       "pyarrow.Table\n",
       "video_stem: string\n",
       "segment_id: string\n",
       "segment_index: int64\n",
       "----\n",
       "video_stem: [[\"str(Path(video_filepath).stem)\",\"hello\"]]\n",
       "segment_id: [[\"str(Path(video_filepath).stem)_9\",\"hello_9\"]]\n",
       "segment_index: [[10,9]]"
      ]
     },
     "execution_count": 67,
     "metadata": {},
     "output_type": "execute_result"
    }
   ],
   "source": [
    "# one_video_of_segments = pa.concat_tables(*list_of_segment_outputs)\n",
    "one_video_of_segments = pa.Table.from_pylist(list_of_segment_outputs)\n",
    "one_video_of_segments"
   ]
  },
  {
   "cell_type": "code",
   "execution_count": 63,
   "metadata": {},
   "outputs": [],
   "source": [
    "import pyarrow.parquet as pq"
   ]
  },
  {
   "cell_type": "code",
   "execution_count": 80,
   "metadata": {},
   "outputs": [
    {
     "data": {
      "text/html": [
       "<div>\n",
       "<style scoped>\n",
       "    .dataframe tbody tr th:only-of-type {\n",
       "        vertical-align: middle;\n",
       "    }\n",
       "\n",
       "    .dataframe tbody tr th {\n",
       "        vertical-align: top;\n",
       "    }\n",
       "\n",
       "    .dataframe thead th {\n",
       "        text-align: right;\n",
       "    }\n",
       "</style>\n",
       "<table border=\"1\" class=\"dataframe\">\n",
       "  <thead>\n",
       "    <tr style=\"text-align: right;\">\n",
       "      <th></th>\n",
       "      <th>video_stem</th>\n",
       "      <th>segment_id</th>\n",
       "      <th>segment_index</th>\n",
       "    </tr>\n",
       "    <tr>\n",
       "      <th>index</th>\n",
       "      <th></th>\n",
       "      <th></th>\n",
       "      <th></th>\n",
       "    </tr>\n",
       "  </thead>\n",
       "  <tbody>\n",
       "    <tr>\n",
       "      <th>0</th>\n",
       "      <td>str(Path(video_filepath).stem)</td>\n",
       "      <td>str(Path(video_filepath).stem)_9</td>\n",
       "      <td>9</td>\n",
       "    </tr>\n",
       "    <tr>\n",
       "      <th>0</th>\n",
       "      <td>VERSION 2</td>\n",
       "      <td>VERSION_2_9</td>\n",
       "      <td>69</td>\n",
       "    </tr>\n",
       "    <tr>\n",
       "      <th>0</th>\n",
       "      <td>VERSION 2</td>\n",
       "      <td>VERSION_2_0</td>\n",
       "      <td>69</td>\n",
       "    </tr>\n",
       "    <tr>\n",
       "      <th>1</th>\n",
       "      <td>VERSION 2</td>\n",
       "      <td>VERSION_2_1</td>\n",
       "      <td>69</td>\n",
       "    </tr>\n",
       "    <tr>\n",
       "      <th>2</th>\n",
       "      <td>VERSION 2</td>\n",
       "      <td>VERSION_2_2</td>\n",
       "      <td>69</td>\n",
       "    </tr>\n",
       "    <tr>\n",
       "      <th>3</th>\n",
       "      <td>VERSION 2</td>\n",
       "      <td>VERSION_2_3</td>\n",
       "      <td>69</td>\n",
       "    </tr>\n",
       "    <tr>\n",
       "      <th>4</th>\n",
       "      <td>VERSION 2</td>\n",
       "      <td>VERSION_2_4</td>\n",
       "      <td>69</td>\n",
       "    </tr>\n",
       "  </tbody>\n",
       "</table>\n",
       "</div>"
      ],
      "text/plain": [
       "                           video_stem                        segment_id  \\\n",
       "index                                                                     \n",
       "0      str(Path(video_filepath).stem)  str(Path(video_filepath).stem)_9   \n",
       "0                           VERSION 2                       VERSION_2_9   \n",
       "0                           VERSION 2                       VERSION_2_0   \n",
       "1                           VERSION 2                       VERSION_2_1   \n",
       "2                           VERSION 2                       VERSION_2_2   \n",
       "3                           VERSION 2                       VERSION_2_3   \n",
       "4                           VERSION 2                       VERSION_2_4   \n",
       "\n",
       "       segment_index  \n",
       "index                 \n",
       "0                  9  \n",
       "0                 69  \n",
       "0                 69  \n",
       "1                 69  \n",
       "2                 69  \n",
       "3                 69  \n",
       "4                 69  "
      ]
     },
     "execution_count": 80,
     "metadata": {},
     "output_type": "execute_result"
    }
   ],
   "source": [
    "from fastparquet import ParquetFile\n",
    "pf = ParquetFile('outfile.parq')\n",
    "df = pf.to_pandas()\n",
    "df"
   ]
  },
  {
   "cell_type": "code",
   "execution_count": 81,
   "metadata": {},
   "outputs": [
    {
     "data": {
      "text/plain": [
       "['str(Path(video_filepath).stem)_9',\n",
       " 'VERSION_2_9',\n",
       " 'VERSION_2_0',\n",
       " 'VERSION_2_1',\n",
       " 'VERSION_2_2',\n",
       " 'VERSION_2_3',\n",
       " 'VERSION_2_4']"
      ]
     },
     "execution_count": 81,
     "metadata": {},
     "output_type": "execute_result"
    }
   ],
   "source": [
    "list_of_filepaths = list(df['segment_id'])\n",
    "list_of_filepaths"
   ]
  },
  {
   "cell_type": "code",
   "execution_count": 75,
   "metadata": {},
   "outputs": [],
   "source": [
    "import fastparquet\n",
    "\n",
    "fastparquet.write('outfile.parq',one_segment_output, append=True)\n",
    "\n",
    "# pyarrow.parquet.write_table('test_parquet_append.parquet', one_video_of_segments, append=False, schema=None, index=None)"
   ]
  },
  {
   "cell_type": "code",
   "execution_count": 2,
   "metadata": {},
   "outputs": [
    {
     "data": {
      "text/plain": [
       "'/scratch/bbki/kastanday/whisper/parallel_14_whisper_output.jsonl'"
      ]
     },
     "execution_count": 2,
     "metadata": {},
     "output_type": "execute_result"
    }
   ],
   "source": [
    "video_data_path = '/scratch/bbki/kastanday/whisper/parallel_1'\n",
    "video_input_dir = Path(video_data_path)\n",
    "output_path = str(os.path.join(video_input_dir.parent, video_input_dir.stem + '_clip_output.jsonl'))\n",
    "audio_jsonl = str(os.path.join(video_input_dir.parent, video_input_dir.stem + '_whisper_output.jsonl'))\n",
    "audio_jsonl"
   ]
  },
  {
   "cell_type": "code",
   "execution_count": 5,
   "metadata": {},
   "outputs": [
    {
     "name": "stdout",
     "output_type": "stream",
     "text": [
      "Done collecting /scratch/bbki/kastanday/whisper/parallel_14_whisper_output.jsonl\n",
      "JsonL parsing time: 34.829023 seconds\n"
     ]
    },
    {
     "data": {
      "text/html": [
       "<div>\n",
       "<style scoped>\n",
       "    .dataframe tbody tr th:only-of-type {\n",
       "        vertical-align: middle;\n",
       "    }\n",
       "\n",
       "    .dataframe tbody tr th {\n",
       "        vertical-align: top;\n",
       "    }\n",
       "\n",
       "    .dataframe thead th {\n",
       "        text-align: right;\n",
       "    }\n",
       "</style>\n",
       "<table border=\"1\" class=\"dataframe\">\n",
       "  <thead>\n",
       "    <tr style=\"text-align: right;\">\n",
       "      <th></th>\n",
       "      <th>video_filename_stem</th>\n",
       "    </tr>\n",
       "  </thead>\n",
       "  <tbody>\n",
       "    <tr>\n",
       "      <th>caption</th>\n",
       "      <td>I'M GOING ON EVERYONE HOW ARE YOU GUYS DOING O...</td>\n",
       "    </tr>\n",
       "    <tr>\n",
       "      <th>start</th>\n",
       "      <td>4.008</td>\n",
       "    </tr>\n",
       "    <tr>\n",
       "      <th>end</th>\n",
       "      <td>13.631562</td>\n",
       "    </tr>\n",
       "    <tr>\n",
       "      <th>segment_word_list</th>\n",
       "      <td>[{'word': 'I'M', 'start': 4.008, 'end': 4.3286...</td>\n",
       "    </tr>\n",
       "    <tr>\n",
       "      <th>video_filename_stem</th>\n",
       "      <td>u5DEHtDBqeI_The Grooming Guy_1076_got2b Shampoo</td>\n",
       "    </tr>\n",
       "    <tr>\n",
       "      <th>video_filepath</th>\n",
       "      <td>/tmp/parallel_14/u5DEHtDBqeI_The Grooming Guy_...</td>\n",
       "    </tr>\n",
       "  </tbody>\n",
       "</table>\n",
       "</div>"
      ],
      "text/plain": [
       "                                                   video_filename_stem\n",
       "caption              I'M GOING ON EVERYONE HOW ARE YOU GUYS DOING O...\n",
       "start                                                            4.008\n",
       "end                                                          13.631562\n",
       "segment_word_list    [{'word': 'I'M', 'start': 4.008, 'end': 4.3286...\n",
       "video_filename_stem    u5DEHtDBqeI_The Grooming Guy_1076_got2b Shampoo\n",
       "video_filepath       /tmp/parallel_14/u5DEHtDBqeI_The Grooming Guy_..."
      ]
     },
     "execution_count": 5,
     "metadata": {},
     "output_type": "execute_result"
    }
   ],
   "source": [
    "debug = True\n",
    "video_dir_files = set()\n",
    "stem_to_filename = {}\n",
    "start_time = time.monotonic()\n",
    "\n",
    "# GLOB VIDEOS\n",
    "# for video_dir_file in glob.glob(os.path.join(video_data_path, '*'), recursive = True):\n",
    "#     # print(Path(video_dir_file).stem)\n",
    "#     video_dir_files.add(str(Path(video_dir_file).stem))\n",
    "#     stem_to_filename[str(Path(video_dir_file).stem)] = video_dir_file\n",
    "# print(f\"Globbing from scratch 25k video files: {time.monotonic() - start_time}:2f seconds\")\n",
    "\n",
    "# FIND WHISPER JSON OBJS\n",
    "start_time = time.monotonic()\n",
    "audio_file_stems = []\n",
    "stem_to_whisper = {}  # filename.stem --> whisper_json_object\n",
    "one_json = None\n",
    "\n",
    "df = pd.DataFrame()\n",
    "with jsonlines.open(audio_jsonl) as reader:\n",
    "    try:\n",
    "        for idx, obj in enumerate(reader):\n",
    "            json_objs = json.loads(obj)\n",
    "            for json_obj in json_objs:\n",
    "                audio_file_stems.append(json_obj['video_filename_stem'])\n",
    "\n",
    "                if json_obj['video_filename_stem'] not in stem_to_whisper:\n",
    "                    stem_to_whisper[json_obj['video_filename_stem']] = []\n",
    "                \n",
    "                stem_to_whisper[json_obj['video_filename_stem']].append(json_obj)\n",
    "                \n",
    "                one_json = json_obj\n",
    "                \n",
    "                df['video_filename_stem'] = json_obj\n",
    "                if idx > 0:\n",
    "                    break\n",
    "    except Exception as e:\n",
    "        print(f\"Error: couldn't read {audio_jsonl}. Got error: {e}\")\n",
    "if debug:\n",
    "    print(f\"Done collecting {audio_jsonl}\")\n",
    "\n",
    "print(f\"JsonL parsing time: {time.monotonic() - start_time:2f} seconds\")\n",
    "# stem_to_whisper\n",
    "df"
   ]
  },
  {
   "cell_type": "code",
   "execution_count": 17,
   "metadata": {},
   "outputs": [],
   "source": [
    "one_json['np_test'] = [1] * 512\n",
    "one_json['segment_word_list'] = 'penis'"
   ]
  },
  {
   "cell_type": "code",
   "execution_count": null,
   "metadata": {},
   "outputs": [],
   "source": []
  },
  {
   "cell_type": "code",
   "execution_count": 18,
   "metadata": {},
   "outputs": [
    {
     "data": {
      "text/html": [
       "<div>\n",
       "<style scoped>\n",
       "    .dataframe tbody tr th:only-of-type {\n",
       "        vertical-align: middle;\n",
       "    }\n",
       "\n",
       "    .dataframe tbody tr th {\n",
       "        vertical-align: top;\n",
       "    }\n",
       "\n",
       "    .dataframe thead th {\n",
       "        text-align: right;\n",
       "    }\n",
       "</style>\n",
       "<table border=\"1\" class=\"dataframe\">\n",
       "  <thead>\n",
       "    <tr style=\"text-align: right;\">\n",
       "      <th></th>\n",
       "      <th>caption</th>\n",
       "      <th>start</th>\n",
       "      <th>end</th>\n",
       "      <th>segment_word_list</th>\n",
       "      <th>video_filename_stem</th>\n",
       "      <th>video_filepath</th>\n",
       "      <th>np_test</th>\n",
       "    </tr>\n",
       "  </thead>\n",
       "  <tbody>\n",
       "    <tr>\n",
       "      <th>0</th>\n",
       "      <td>I'M GOING ON EVERYONE HOW ARE YOU GUYS DOING O...</td>\n",
       "      <td>4.008</td>\n",
       "      <td>13.631562</td>\n",
       "      <td>penis</td>\n",
       "      <td>u5DEHtDBqeI_The Grooming Guy_1076_got2b Shampoo</td>\n",
       "      <td>/tmp/parallel_14/u5DEHtDBqeI_The Grooming Guy_...</td>\n",
       "      <td>1</td>\n",
       "    </tr>\n",
       "    <tr>\n",
       "      <th>1</th>\n",
       "      <td>I'M GOING ON EVERYONE HOW ARE YOU GUYS DOING O...</td>\n",
       "      <td>4.008</td>\n",
       "      <td>13.631562</td>\n",
       "      <td>penis</td>\n",
       "      <td>u5DEHtDBqeI_The Grooming Guy_1076_got2b Shampoo</td>\n",
       "      <td>/tmp/parallel_14/u5DEHtDBqeI_The Grooming Guy_...</td>\n",
       "      <td>1</td>\n",
       "    </tr>\n",
       "    <tr>\n",
       "      <th>2</th>\n",
       "      <td>I'M GOING ON EVERYONE HOW ARE YOU GUYS DOING O...</td>\n",
       "      <td>4.008</td>\n",
       "      <td>13.631562</td>\n",
       "      <td>penis</td>\n",
       "      <td>u5DEHtDBqeI_The Grooming Guy_1076_got2b Shampoo</td>\n",
       "      <td>/tmp/parallel_14/u5DEHtDBqeI_The Grooming Guy_...</td>\n",
       "      <td>1</td>\n",
       "    </tr>\n",
       "    <tr>\n",
       "      <th>3</th>\n",
       "      <td>I'M GOING ON EVERYONE HOW ARE YOU GUYS DOING O...</td>\n",
       "      <td>4.008</td>\n",
       "      <td>13.631562</td>\n",
       "      <td>penis</td>\n",
       "      <td>u5DEHtDBqeI_The Grooming Guy_1076_got2b Shampoo</td>\n",
       "      <td>/tmp/parallel_14/u5DEHtDBqeI_The Grooming Guy_...</td>\n",
       "      <td>1</td>\n",
       "    </tr>\n",
       "    <tr>\n",
       "      <th>4</th>\n",
       "      <td>I'M GOING ON EVERYONE HOW ARE YOU GUYS DOING O...</td>\n",
       "      <td>4.008</td>\n",
       "      <td>13.631562</td>\n",
       "      <td>penis</td>\n",
       "      <td>u5DEHtDBqeI_The Grooming Guy_1076_got2b Shampoo</td>\n",
       "      <td>/tmp/parallel_14/u5DEHtDBqeI_The Grooming Guy_...</td>\n",
       "      <td>1</td>\n",
       "    </tr>\n",
       "    <tr>\n",
       "      <th>...</th>\n",
       "      <td>...</td>\n",
       "      <td>...</td>\n",
       "      <td>...</td>\n",
       "      <td>...</td>\n",
       "      <td>...</td>\n",
       "      <td>...</td>\n",
       "      <td>...</td>\n",
       "    </tr>\n",
       "    <tr>\n",
       "      <th>507</th>\n",
       "      <td>I'M GOING ON EVERYONE HOW ARE YOU GUYS DOING O...</td>\n",
       "      <td>4.008</td>\n",
       "      <td>13.631562</td>\n",
       "      <td>penis</td>\n",
       "      <td>u5DEHtDBqeI_The Grooming Guy_1076_got2b Shampoo</td>\n",
       "      <td>/tmp/parallel_14/u5DEHtDBqeI_The Grooming Guy_...</td>\n",
       "      <td>1</td>\n",
       "    </tr>\n",
       "    <tr>\n",
       "      <th>508</th>\n",
       "      <td>I'M GOING ON EVERYONE HOW ARE YOU GUYS DOING O...</td>\n",
       "      <td>4.008</td>\n",
       "      <td>13.631562</td>\n",
       "      <td>penis</td>\n",
       "      <td>u5DEHtDBqeI_The Grooming Guy_1076_got2b Shampoo</td>\n",
       "      <td>/tmp/parallel_14/u5DEHtDBqeI_The Grooming Guy_...</td>\n",
       "      <td>1</td>\n",
       "    </tr>\n",
       "    <tr>\n",
       "      <th>509</th>\n",
       "      <td>I'M GOING ON EVERYONE HOW ARE YOU GUYS DOING O...</td>\n",
       "      <td>4.008</td>\n",
       "      <td>13.631562</td>\n",
       "      <td>penis</td>\n",
       "      <td>u5DEHtDBqeI_The Grooming Guy_1076_got2b Shampoo</td>\n",
       "      <td>/tmp/parallel_14/u5DEHtDBqeI_The Grooming Guy_...</td>\n",
       "      <td>1</td>\n",
       "    </tr>\n",
       "    <tr>\n",
       "      <th>510</th>\n",
       "      <td>I'M GOING ON EVERYONE HOW ARE YOU GUYS DOING O...</td>\n",
       "      <td>4.008</td>\n",
       "      <td>13.631562</td>\n",
       "      <td>penis</td>\n",
       "      <td>u5DEHtDBqeI_The Grooming Guy_1076_got2b Shampoo</td>\n",
       "      <td>/tmp/parallel_14/u5DEHtDBqeI_The Grooming Guy_...</td>\n",
       "      <td>1</td>\n",
       "    </tr>\n",
       "    <tr>\n",
       "      <th>511</th>\n",
       "      <td>I'M GOING ON EVERYONE HOW ARE YOU GUYS DOING O...</td>\n",
       "      <td>4.008</td>\n",
       "      <td>13.631562</td>\n",
       "      <td>penis</td>\n",
       "      <td>u5DEHtDBqeI_The Grooming Guy_1076_got2b Shampoo</td>\n",
       "      <td>/tmp/parallel_14/u5DEHtDBqeI_The Grooming Guy_...</td>\n",
       "      <td>1</td>\n",
       "    </tr>\n",
       "  </tbody>\n",
       "</table>\n",
       "<p>512 rows × 7 columns</p>\n",
       "</div>"
      ],
      "text/plain": [
       "                                               caption  start        end  \\\n",
       "0    I'M GOING ON EVERYONE HOW ARE YOU GUYS DOING O...  4.008  13.631562   \n",
       "1    I'M GOING ON EVERYONE HOW ARE YOU GUYS DOING O...  4.008  13.631562   \n",
       "2    I'M GOING ON EVERYONE HOW ARE YOU GUYS DOING O...  4.008  13.631562   \n",
       "3    I'M GOING ON EVERYONE HOW ARE YOU GUYS DOING O...  4.008  13.631562   \n",
       "4    I'M GOING ON EVERYONE HOW ARE YOU GUYS DOING O...  4.008  13.631562   \n",
       "..                                                 ...    ...        ...   \n",
       "507  I'M GOING ON EVERYONE HOW ARE YOU GUYS DOING O...  4.008  13.631562   \n",
       "508  I'M GOING ON EVERYONE HOW ARE YOU GUYS DOING O...  4.008  13.631562   \n",
       "509  I'M GOING ON EVERYONE HOW ARE YOU GUYS DOING O...  4.008  13.631562   \n",
       "510  I'M GOING ON EVERYONE HOW ARE YOU GUYS DOING O...  4.008  13.631562   \n",
       "511  I'M GOING ON EVERYONE HOW ARE YOU GUYS DOING O...  4.008  13.631562   \n",
       "\n",
       "    segment_word_list                              video_filename_stem  \\\n",
       "0               penis  u5DEHtDBqeI_The Grooming Guy_1076_got2b Shampoo   \n",
       "1               penis  u5DEHtDBqeI_The Grooming Guy_1076_got2b Shampoo   \n",
       "2               penis  u5DEHtDBqeI_The Grooming Guy_1076_got2b Shampoo   \n",
       "3               penis  u5DEHtDBqeI_The Grooming Guy_1076_got2b Shampoo   \n",
       "4               penis  u5DEHtDBqeI_The Grooming Guy_1076_got2b Shampoo   \n",
       "..                ...                                              ...   \n",
       "507             penis  u5DEHtDBqeI_The Grooming Guy_1076_got2b Shampoo   \n",
       "508             penis  u5DEHtDBqeI_The Grooming Guy_1076_got2b Shampoo   \n",
       "509             penis  u5DEHtDBqeI_The Grooming Guy_1076_got2b Shampoo   \n",
       "510             penis  u5DEHtDBqeI_The Grooming Guy_1076_got2b Shampoo   \n",
       "511             penis  u5DEHtDBqeI_The Grooming Guy_1076_got2b Shampoo   \n",
       "\n",
       "                                        video_filepath  np_test  \n",
       "0    /tmp/parallel_14/u5DEHtDBqeI_The Grooming Guy_...        1  \n",
       "1    /tmp/parallel_14/u5DEHtDBqeI_The Grooming Guy_...        1  \n",
       "2    /tmp/parallel_14/u5DEHtDBqeI_The Grooming Guy_...        1  \n",
       "3    /tmp/parallel_14/u5DEHtDBqeI_The Grooming Guy_...        1  \n",
       "4    /tmp/parallel_14/u5DEHtDBqeI_The Grooming Guy_...        1  \n",
       "..                                                 ...      ...  \n",
       "507  /tmp/parallel_14/u5DEHtDBqeI_The Grooming Guy_...        1  \n",
       "508  /tmp/parallel_14/u5DEHtDBqeI_The Grooming Guy_...        1  \n",
       "509  /tmp/parallel_14/u5DEHtDBqeI_The Grooming Guy_...        1  \n",
       "510  /tmp/parallel_14/u5DEHtDBqeI_The Grooming Guy_...        1  \n",
       "511  /tmp/parallel_14/u5DEHtDBqeI_The Grooming Guy_...        1  \n",
       "\n",
       "[512 rows x 7 columns]"
      ]
     },
     "execution_count": 18,
     "metadata": {},
     "output_type": "execute_result"
    }
   ],
   "source": [
    "# thing  =np.zeros((512))\n",
    "\n",
    "df2 = pd.DataFrame(one_json)\n",
    "df2"
   ]
  },
  {
   "cell_type": "code",
   "execution_count": null,
   "metadata": {},
   "outputs": [],
   "source": [
    "all_whisper = []\n",
    "with jsonlines.open(audio_jsonl) as reader:\n",
    "    try:\n",
    "        for _, obj in enumerate(reader):\n",
    "            json_objs = json.loads(obj)\n",
    "    except Exception as e:\n",
    "        print(f\"Error: couldn't read {audio_jsonl}. Got error: {e}\")"
   ]
  },
  {
   "cell_type": "code",
   "execution_count": 30,
   "metadata": {},
   "outputs": [
    {
     "name": "stdout",
     "output_type": "stream",
     "text": [
      "JsonL --> pyarrow parsing time: 15.658412 seconds\n"
     ]
    },
    {
     "data": {
      "text/html": [
       "<div>\n",
       "<style scoped>\n",
       "    .dataframe tbody tr th:only-of-type {\n",
       "        vertical-align: middle;\n",
       "    }\n",
       "\n",
       "    .dataframe tbody tr th {\n",
       "        vertical-align: top;\n",
       "    }\n",
       "\n",
       "    .dataframe thead th {\n",
       "        text-align: right;\n",
       "    }\n",
       "</style>\n",
       "<table border=\"1\" class=\"dataframe\">\n",
       "  <thead>\n",
       "    <tr style=\"text-align: right;\">\n",
       "      <th></th>\n",
       "      <th>0</th>\n",
       "    </tr>\n",
       "  </thead>\n",
       "  <tbody>\n",
       "    <tr>\n",
       "      <th>0</th>\n",
       "      <td>[{\"caption\": \"THE NEW AT FIVE A STUDENT GOT SE...</td>\n",
       "    </tr>\n",
       "    <tr>\n",
       "      <th>1</th>\n",
       "      <td>[{\"caption\": \"I DIDN'T KNOW WHAT TO GET ANYONE...</td>\n",
       "    </tr>\n",
       "    <tr>\n",
       "      <th>2</th>\n",
       "      <td>[{\"caption\": \"IT'S TIME FOR A JOKE A JOKE FROM...</td>\n",
       "    </tr>\n",
       "    <tr>\n",
       "      <th>3</th>\n",
       "      <td>[{\"caption\": \"HEY Y'ALL MY NAME IS RAVANNA AND...</td>\n",
       "    </tr>\n",
       "    <tr>\n",
       "      <th>4</th>\n",
       "      <td>[{\"caption\": \"A BRAND NEW SEASON OF JAYLON'S B...</td>\n",
       "    </tr>\n",
       "    <tr>\n",
       "      <th>...</th>\n",
       "      <td>...</td>\n",
       "    </tr>\n",
       "    <tr>\n",
       "      <th>19558</th>\n",
       "      <td>[{\"caption\": \"WE'RE HERE TODAY BECAUSE WE'VE B...</td>\n",
       "    </tr>\n",
       "    <tr>\n",
       "      <th>19559</th>\n",
       "      <td>[{\"caption\": \"I'M GOING TO GO BACK TO THERE WI...</td>\n",
       "    </tr>\n",
       "    <tr>\n",
       "      <th>19560</th>\n",
       "      <td>[{\"caption\": \"I'M SORRY MAJOR DO YOU BRING ANY...</td>\n",
       "    </tr>\n",
       "    <tr>\n",
       "      <th>19561</th>\n",
       "      <td>[{\"caption\": \"SO WELCOME BACK TO THE WIFE MOTH...</td>\n",
       "    </tr>\n",
       "    <tr>\n",
       "      <th>19562</th>\n",
       "      <td>[{\"caption\": \"OKAY SO I WAS ABLE TO PUT MY CAM...</td>\n",
       "    </tr>\n",
       "  </tbody>\n",
       "</table>\n",
       "<p>19563 rows × 1 columns</p>\n",
       "</div>"
      ],
      "text/plain": [
       "                                                       0\n",
       "0      [{\"caption\": \"THE NEW AT FIVE A STUDENT GOT SE...\n",
       "1      [{\"caption\": \"I DIDN'T KNOW WHAT TO GET ANYONE...\n",
       "2      [{\"caption\": \"IT'S TIME FOR A JOKE A JOKE FROM...\n",
       "3      [{\"caption\": \"HEY Y'ALL MY NAME IS RAVANNA AND...\n",
       "4      [{\"caption\": \"A BRAND NEW SEASON OF JAYLON'S B...\n",
       "...                                                  ...\n",
       "19558  [{\"caption\": \"WE'RE HERE TODAY BECAUSE WE'VE B...\n",
       "19559  [{\"caption\": \"I'M GOING TO GO BACK TO THERE WI...\n",
       "19560  [{\"caption\": \"I'M SORRY MAJOR DO YOU BRING ANY...\n",
       "19561  [{\"caption\": \"SO WELCOME BACK TO THE WIFE MOTH...\n",
       "19562  [{\"caption\": \"OKAY SO I WAS ABLE TO PUT MY CAM...\n",
       "\n",
       "[19563 rows x 1 columns]"
      ]
     },
     "execution_count": 30,
     "metadata": {},
     "output_type": "execute_result"
    }
   ],
   "source": [
    "from pyarrow import json\n",
    "import pandas as pd\n",
    "start_time = time.monotonic()\n",
    "# table = json.read_json(str(audio_jsonl))\n",
    "# table = jsonlines.read_json(str('small.jsonl'))\n",
    "df2 = pd.read_json(str(audio_jsonl), lines=True, encoding='utf-8')\n",
    "print(f\"JsonL --> pyarrow parsing time: {time.monotonic() - start_time:2f} seconds\")\n",
    "df2"
   ]
  },
  {
   "cell_type": "code",
   "execution_count": 28,
   "metadata": {},
   "outputs": [
    {
     "data": {
      "text/plain": [
       "'[{\"caption\": \"THE NEW AT FIVE A STUDENT GOT SENT HOME FROM ROSDALE MIDDLE SCHOOL AFTER BRINGING\", \"start\": 0.0601875, \"end\": 4.2144375, \"segment_word_list\": [{\"word\": \"THE\", \"start\": 0.0601875, \"end\": 0.1404375}, {\"word\": \"NEW\", \"start\": 0.1805625, \"end\": 0.32099999999999995}, {\"word\": \"AT\", \"start\": 0.3611875, \"end\": 0.4414375}, {\"word\": \"FIVE\", \"start\": 0.481625, \"end\": 0.8026875}, {\"word\": \"A\", \"start\": 0.842875, \"end\": 0.9030625}, {\"word\": \"STUDENT\", \"start\": 0.94325, \"end\": 1.284375}, {\"word\": \"GOT\", \"start\": 1.3044375, \"end\": 1.4649375}, {\"word\": \"SENT\", \"start\": 1.4850625, \"end\": 1.6857499999999999}, {\"word\": \"HOME\", \"start\": 1.7259375, \"end\": 1.9266249999999998}, {\"word\": \"FROM\", \"start\": 1.96675, \"end\": 2.12725}, {\"word\": \"ROSDALE\", \"start\": 2.1674375, \"end\": 2.5888750000000003}, {\"word\": \"MIDDLE\", \"start\": 2.6290625, \"end\": 2.8498124999999996}, {\"word\": \"SCHOOL\", \"start\": 2.8899375, \"end\": 3.1708749999999997}, {\"word\": \"AFTER\", \"start\": 3.6124375, \"end\": 3.813125}, {\"word\": \"BRINGING\", \"start\": 3.8733125, \"end\": 4.2144375}], \"video_filename_stem\": \"xjPgN-Eqr4M_23 ABC News \\\\uff5c KERO_1392_Student brings knife to middle school\", \"video_filepath\": \"/tmp/parallel_14/xjPgN-Eqr4M_23 ABC News \\\\uff5c KERO_1392_Student brings knife to middle school.webm\"}, {\"caption\": \"A KNIFE ON CAMPUS AS DEPUTIES WERE HEADING TO THE SCHOOL THEY WERE TOLD BY\", \"start\": 4.2345625, \"end\": 8.347625, \"segment_word_list\": [{\"word\": \"A\", \"start\": 4.2345625, \"end\": 4.254625}, {\"word\": \"KNIFE\", \"start\": 4.4955, \"end\": 4.7965}, {\"word\": \"ON\", \"start\": 4.896875, \"end\": 4.977125}, {\"word\": \"CAMPUS\", \"start\": 5.0373125, \"end\": 5.418625}, {\"word\": \"AS\", \"start\": 6.0005625, \"end\": 6.12125}, {\"word\": \"DEPUTIES\", \"start\": 6.201125, \"end\": 6.6226875000000005}, {\"word\": \"WERE\", \"start\": 6.6624375, \"end\": 6.783125}, {\"word\": \"HEADING\", \"start\": 6.822875, \"end\": 7.0438125}, {\"word\": \"TO\", \"start\": 7.083625, \"end\": 7.1641875}, {\"word\": \"THE\", \"start\": 7.204, \"end\": 7.2845625}, {\"word\": \"SCHOOL\", \"start\": 7.3243125, \"end\": 7.6054375}, {\"word\": \"THEY\", \"start\": 7.64525, \"end\": 7.7659375}, {\"word\": \"WERE\", \"start\": 7.8056875, \"end\": 7.926375}, {\"word\": \"TOLD\", \"start\": 7.9661875, \"end\": 8.1670625}, {\"word\": \"BY\", \"start\": 8.206875, \"end\": 8.347625}], \"video_filename_stem\": \"xjPgN-Eqr4M_23 ABC News \\\\uff5c KERO_1392_Student brings knife to middle school\", \"video_filepath\": \"/tmp/parallel_14/xjPgN-Eqr4M_23 ABC News \\\\uff5c KERO_1392_Student brings knife to middle school.webm\"}, {\"caption\": \"STAFF THAT THE STUDENT WAS POSSIBLY IN NEED OF A MENTAL HEALTH EVALUATION WHEN DEPUTIES\", \"start\": 8.4275, \"end\": 13.4028125, \"segment_word_list\": [{\"word\": \"STAFF\", \"start\": 8.4275, \"end\": 8.74875}, {\"word\": \"THAT\", \"start\": 8.86875, \"end\": 8.969375000000001}, {\"word\": \"THE\", \"start\": 8.9890625, \"end\": 9.0896875}, {\"word\": \"STUDENT\", \"start\": 9.1295, \"end\": 9.4306875}, {\"word\": \"WAS\", \"start\": 9.450375, \"end\": 9.5710625}, {\"word\": \"POSSIBLY\", \"start\": 9.671, \"end\": 10.192812499999999}, {\"word\": \"IN\", \"start\": 10.2526875, \"end\": 10.3131875}, {\"word\": \"NEED\", \"start\": 10.3730625, \"end\": 10.5739375}, {\"word\": \"OF\", \"start\": 10.9948125, \"end\": 11.075375}, {\"word\": \"A\", \"start\": 11.115125, \"end\": 11.1355}, {\"word\": \"MENTAL\", \"start\": 11.195375, \"end\": 11.4564375}, {\"word\": \"HEALTH\", \"start\": 11.536375, \"end\": 11.7974375}, {\"word\": \"EVALUATION\", \"start\": 11.8171875, \"end\": 12.3991875}, {\"word\": \"WHEN\", \"start\": 12.88025, \"end\": 13.0014375}, {\"word\": \"DEPUTIES\", \"start\": 13.0408125, \"end\": 13.4028125}], \"video_filename_stem\": \"xjPgN-Eqr4M_23 ABC News \\\\uff5c KERO_1392_Student brings knife to middle school\", \"video_filepath\": \"/tmp/parallel_14/xjPgN-Eqr4M_23 ABC News \\\\uff5c KERO_1392_Student brings knife to middle school.webm\"}, {\"caption\": \"ARRIVED THEY TALKED TO THE FOURTEEN-YEAR-OLD AND DETERMINED HE WAS NOT A THREAT TO HIMSELF\", \"start\": 13.46225, \"end\": 17.356624999999998, \"segment_word_list\": [{\"word\": \"ARRIVED\", \"start\": 13.46225, \"end\": 13.784125}, {\"word\": \"THEY\", \"start\": 13.8034375, \"end\": 13.944687499999999}, {\"word\": \"TALKED\", \"start\": 13.984125, \"end\": 14.245812500000001}, {\"word\": \"TO\", \"start\": 14.2650625, \"end\": 14.346125}, {\"word\": \"THE\", \"start\": 14.3654375, \"end\": 14.4264375}, {\"word\": \"FOURTEEN-YEAR-OLD\", \"start\": 14.46575, \"end\": 15.1890625}, {\"word\": \"AND\", \"start\": 15.2284375, \"end\": 15.3095}, {\"word\": \"DETERMINED\", \"start\": 15.348875, \"end\": 15.7911875}, {\"word\": \"HE\", \"start\": 15.8706875, \"end\": 15.95175}, {\"word\": \"WAS\", \"start\": 16.0111875, \"end\": 16.152437499999998}, {\"word\": \"NOT\", \"start\": 16.2319375, \"end\": 16.433375}, {\"word\": \"A\", \"start\": 16.47275, \"end\": 16.493562500000003}, {\"word\": \"THREAT\", \"start\": 16.533, \"end\": 16.774625}, {\"word\": \"TO\", \"start\": 16.8139375, \"end\": 16.9150625}, {\"word\": \"HIMSELF\", \"start\": 16.9745, \"end\": 17.356624999999998}], \"video_filename_stem\": \"xjPgN-Eqr4M_23 ABC News \\\\uff5c KERO_1392_Student brings knife to middle school\", \"video_filepath\": \"/tmp/parallel_14/xjPgN-Eqr4M_23 ABC News \\\\uff5c KERO_1392_Student brings knife to middle school.webm\"}]'"
      ]
     },
     "execution_count": 28,
     "metadata": {},
     "output_type": "execute_result"
    }
   ],
   "source": [
    "df2[0]\n"
   ]
  },
  {
   "cell_type": "code",
   "execution_count": 9,
   "metadata": {},
   "outputs": [
    {
     "name": "stdout",
     "output_type": "stream",
     "text": [
      "\"[{\\\"caption\\\": \\\"HOMEWARD BOUND IS A PROGRAM THAT WAS STARTED OUT OF AUSTRALIA AND ITS INTERNATIONAL LEADERSHIP\\\", \\\"start\\\": 2.247625, \\\"end\\\": 7.2059999999999995, \\\"segment_word_list\\\": [{\\\"word\\\": \\\"HOMEWARD\\\", \\\"start\\\": 2.247625, \\\"end\\\": 2.5285625}, {\\\"word\\\": \\\"BOUND\\\", \\\"start\\\": 2.548625, \\\"end\\\": 3.251}, {\\\"word\\\": \\\"IS\\\", \\\"start\\\": 3.351375, \\\"end\\\": 3.4516875}, {\\\"word\\\": \\\"A\\\", \\\"start\\\": 3.491875, \\\"end\\\": 3.5721249999999998}, {\\\"word\\\": \\\"PROGRAM\\\", \\\"start\\\": 3.873125, \\\"end\\\": 4.1540625}, {\\\"word\\\": \\\"THAT\\\", \\\"start\\\": 4.1741875, \\\"end\\\": 4.254437500000001}, {\\\"word\\\": \\\"WAS\\\", \\\"start\\\": 4.2745, \\\"end\\\": 4.35475}, {\\\"word\\\": \\\"STARTED\\\", \\\"start\\\": 4.3949375, \\\"end\\\": 4.655812500000001}, {\\\"word\\\": \\\"OUT\\\", \\\"start\\\": 4.6959375, \\\"end\\\": 4.796250000000001}, {\\\"word\\\": \\\"OF\\\", \\\"start\\\": 4.8364375, \\\"end\\\": 4.896624999999999}, {\\\"word\\\": \\\"AUSTRALIA\\\", \\\"start\\\": 5.1374375, \\\"end\\\": 5.6993125}, {\\\"word\\\": \\\"AND\\\", \\\"start\\\": 5.7194375, \\\"end\\\": 5.7996875}, {\\\"word\\\": \\\"ITS\\\", \\\"start\\\": 5.81975, \\\"end\\\": 5.8799375}, {\\\"word\\\": \\\"INTERNATIONAL\\\", \\\"start\\\": 6.0205625, \\\"end\\\": 6.7038125}, {\\\"word\\\": \\\"LEADERSHIP\\\", \\\"start\\\": 6.76375, \\\"end\\\": 7.2059999999999995}], \\\"video_filename_stem\\\": \\\"Xl2xY6hdTzU_Laurentian University - Universit\\\\u00e9 Laurentienne_215_Celebrating women in science!\\\", \\\"video_filepath\\\": \\\"/tmp/parallel_13/Xl2xY6hdTzU_Laurentian University - Universit\\\\u00e9 Laurentienne_215_Celebrating women in science!.webm\\\"}, {\\\"caption\\\": \\\"PROGRAM FOR WOMEN IN STEM SO I'M TAMMY EAGER I'M THE RESEARCH CHAIR IN OCCUPATIONAL\\\", \\\"start\\\": 7.22575, \\\"end\\\": 15.9773125, \\\"segment_word_list\\\": [{\\\"word\\\": \\\"PROGRAM\\\", \\\"start\\\": 7.22575, \\\"end\\\": 7.667999999999999}, {\\\"word\\\": \\\"FOR\\\", \\\"start\\\": 7.70775, \\\"end\\\": 7.8486875}, {\\\"word\\\": \\\"WOMEN\\\", \\\"start\\\": 7.8885625, \\\"end\\\": 8.15}, {\\\"word\\\": \\\"IN\\\", \\\"start\\\": 8.29025, \\\"end\\\": 8.4311875}, {\\\"word\\\": \\\"STEM\\\", \\\"start\\\": 8.5313125, \\\"end\\\": 8.7525625}, {\\\"word\\\": \\\"SO\\\", \\\"start\\\": 13.6035, \\\"end\\\": 13.664625000000001}, {\\\"word\\\": \\\"I'M\\\", \\\"start\\\": 13.7040625, \\\"end\\\": 13.8255}, {\\\"word\\\": \\\"TAMMY\\\", \\\"start\\\": 13.8448125, \\\"end\\\": 14.127125}, {\\\"word\\\": \\\"EAGER\\\", \\\"start\\\": 14.1866875, \\\"end\\\": 14.388562499999999}, {\\\"word\\\": \\\"I'M\\\", \\\"start\\\": 14.4280625, \\\"end\\\": 14.569624999999998}, {\\\"word\\\": \\\"THE\\\", \\\"start\\\": 14.5889375, \\\"end\\\": 14.6701875}, {\\\"word\\\": \\\"RESEARCH\\\", \\\"start\\\": 14.7095625, \\\"end\\\": 15.0723125}, {\\\"word\\\": \\\"CHAIR\\\", \\\"start\\\": 15.1118125, \\\"end\\\": 15.313687499999999}, {\\\"word\\\": \\\"IN\\\", \\\"start\\\": 15.37325, \\\"end\\\": 15.434375000000001}, {\\\"word\\\": \\\"OCCUPATIONAL\\\", \\\"start\\\": 15.4536875, \\\"end\\\": 15.9773125}], \\\"video_filename_stem\\\": \\\"Xl2xY6hdTzU_Laurentian University - Universit\\\\u00e9 Laurentienne_215_Celebrating women in science!\\\", \\\"video_filepath\\\": \\\"/tmp/parallel_13/Xl2xY6hdTzU_Laurentian University - Universit\\\\u00e9 Laurentienne_215_Celebrating women in science!.webm\\\"}, {\\\"caption\\\": \\\"HEALTH AND SAFETY I WILL BE TRAVELING WITH THE ONE HUNDRED OTHER WOMEN FROM AROUND\\\", \\\"start\\\": 15.996625, \\\"end\\\": 20.53725, \\\"segment_word_list\\\": [{\\\"word\\\": \\\"HEALTH\\\", \\\"start\\\": 15.996625, \\\"end\\\": 16.1381875}, {\\\"word\\\": \\\"AND\\\", \\\"start\\\": 16.177625, \\\"end\\\": 16.23875}, {\\\"word\\\": \\\"SAFETY\\\", \\\"start\\\": 16.2580625, \\\"end\\\": 16.60075}, {\\\"word\\\": \\\"I\\\", \\\"start\\\": 17.182375, \\\"end\\\": 17.2235625}, {\\\"word\\\": \\\"WILL\\\", \\\"start\\\": 17.2626875, \\\"end\\\": 17.424374999999998}, {\\\"word\\\": \\\"BE\\\", \\\"start\\\": 17.4434375, \\\"end\\\": 17.544875}, {\\\"word\\\": \\\"TRAVELING\\\", \\\"start\\\": 17.5840625, \\\"end\\\": 18.006812500000002}, {\\\"word\\\": \\\"WITH\\\", \\\"start\\\": 18.025875, \\\"end\\\": 18.508875}, {\\\"word\\\": \\\"THE\\\", \\\"start\\\": 18.548, \\\"end\\\": 18.629312499999997}, {\\\"word\\\": \\\"ONE\\\", \\\"start\\\": 18.688625, \\\"end\\\": 18.749875}, {\\\"word\\\": \\\"HUNDRED\\\", \\\"start\\\": 18.789, \\\"end\\\": 19.1113125}, {\\\"word\\\": \\\"OTHER\\\", \\\"start\\\": 19.5923125, \\\"end\\\": 19.7740625}, {\\\"word\\\": \\\"WOMEN\\\", \\\"start\\\": 19.81325, \\\"end\\\": 20.0351875}, {\\\"word\\\": \\\"FROM\\\", \\\"start\\\": 20.0743125, \\\"end\\\": 20.195812500000002}, {\\\"word\\\": \\\"AROUND\\\", \\\"start\\\": 20.235, \\\"end\\\": 20.53725}], \\\"video_filename_stem\\\": \\\"Xl2xY6hdTzU_Laurentian University - Universit\\\\u00e9 Laurentienne_215_Celebrating women in science!\\\", \\\"video_filepath\\\": \\\"/tmp/parallel_13/Xl2xY6hdTzU_Laurentian University - Universit\\\\u00e9 Laurentienne_215_Celebrating women in science!.webm\\\"}, {\\\"caption\\\": \\\"THE WORLD THIRTY-THREE DIFFERENT COUNTRIES TO ANTARCTICA AND THE GOAL OF THE PROGRAM IS TO\\\", \\\"start\\\": 20.5563125, \\\"end\\\": 24.998875, \\\"segment_word_list\\\": [{\\\"word\\\": \\\"THE\\\", \\\"start\\\": 20.5563125, \\\"end\\\": 20.637625}, {\\\"word\\\": \\\"WORLD\\\", \\\"start\\\": 20.6768125, \\\"end\\\": 20.999125}, {\\\"word\\\": \\\"THIRTY-THREE\\\", \\\"start\\\": 21.0785, \\\"end\\\": 21.441}, {\\\"word\\\": \\\"DIFFERENT\\\", \\\"start\\\": 21.4801875, \\\"end\\\": 21.7428125}, {\\\"word\\\": \\\"COUNTRIES\\\", \\\"start\\\": 21.7615625, \\\"end\\\": 22.144750000000002}, {\\\"word\\\": \\\"TO\\\", \\\"start\\\": 22.2439375, \\\"end\\\": 22.3859375}, {\\\"word\\\": \\\"ANTARCTICA\\\", \\\"start\\\": 22.485125, \\\"end\\\": 23.0894375}, {\\\"word\\\": \\\"AND\\\", \\\"start\\\": 23.6509375, \\\"end\\\": 23.752750000000002}, {\\\"word\\\": \\\"THE\\\", \\\"start\\\": 23.7715, \\\"end\\\": 23.833125}, {\\\"word\\\": \\\"GOAL\\\", \\\"start\\\": 23.872, \\\"end\\\": 24.094375}, {\\\"word\\\": \\\"OF\\\", \\\"start\\\": 24.1131875, \\\"end\\\": 24.174812499999998}, {\\\"word\\\": \\\"THE\\\", \\\"start\\\": 24.193625, \\\"end\\\": 24.25525}, {\\\"word\\\": \\\"PROGRAM\\\", \\\"start\\\": 24.3141875, \\\"end\\\": 24.7375625}, {\\\"word\\\": \\\"IS\\\", \\\"start\\\": 24.7765, \\\"end\\\": 24.8581875}, {\\\"word\\\": \\\"TO\\\", \\\"start\\\": 24.8970625, \\\"end\\\": 24.998875}], \\\"video_filename_stem\\\": \\\"Xl2xY6hdTzU_Laurentian University - Universit\\\\u00e9 Laurentienne_215_Celebrating women in science!\\\", \\\"video_filepath\\\": \\\"/tmp/parallel_13/Xl2xY6hdTzU_Laurentian University - Universit\\\\u00e9 Laurentienne_215_Celebrating women in science!.webm\\\"}, {\\\"caption\\\": \\\"TRAIN A THOUSAND WOMEN IN THE STEM FIELDS IN THE NEXT TEN YEARS IN LEADERSHIP\\\", \\\"start\\\": 25.057875, \\\"end\\\": 29.739375000000003, \\\"segment_word_list\\\": [{\\\"word\\\": \\\"TRAIN\\\", \\\"start\\\": 25.057875, \\\"end\\\": 25.38075}, {\\\"word\\\": \\\"A\\\", \\\"start\\\": 25.3995625, \\\"end\\\": 25.421}, {\\\"word\\\": \\\"THOUSAND\\\", \\\"start\\\": 25.580375, \\\"end\\\": 25.983625}, {\\\"word\\\": \\\"WOMEN\\\", \\\"start\\\": 26.02225, \\\"end\\\": 26.264812499999998}, {\\\"word\\\": \\\"IN\\\", \\\"start\\\": 26.3034375, \\\"end\\\": 26.3853125}, {\\\"word\\\": \\\"THE\\\", \\\"start\\\": 26.403875, \\\"end\\\": 26.48575}, {\\\"word\\\": \\\"STEM\\\", \\\"start\\\": 26.5444375, \\\"end\\\": 26.807125}, {\\\"word\\\": \\\"FIELDS\\\", \\\"start\\\": 26.8456875, \\\"end\\\": 27.1886875}, {\\\"word\\\": \\\"IN\\\", \\\"start\\\": 27.2875625, \\\"end\\\": 27.3694375}, {\\\"word\\\": \\\"THE\\\", \\\"start\\\": 27.388, \\\"end\\\": 27.469875000000002}, {\\\"word\\\": \\\"NEXT\\\", \\\"start\\\": 27.5285625, \\\"end\\\": 27.771124999999998}, {\\\"word\\\": \\\"TEN\\\", \\\"start\\\": 27.8499375, \\\"end\\\": 28.0724375}, {\\\"word\\\": \\\"YEARS\\\", \\\"start\\\": 28.131125, \\\"end\\\": 28.4540625}, {\\\"word\\\": \\\"IN\\\", \\\"start\\\": 28.974625, \\\"end\\\": 29.0565}, {\\\"word\\\": \\\"LEADERSHIP\\\", \\\"start\\\": 29.1353125, \\\"end\\\": 29.739375000000003}], \\\"video_filename_stem\\\": \\\"Xl2xY6hdTzU_Laurentian University - Universit\\\\u00e9 Laurentienne_215_Celebrating women in science!\\\", \\\"video_filepath\\\": \\\"/tmp/parallel_13/Xl2xY6hdTzU_Laurentian University - Universit\\\\u00e9 Laurentienne_215_Celebrating women in science!.webm\\\"}, {\\\"caption\\\": \\\"IT'S FASCINATING WE'VE GOT ENGINEERS WE HAVE BIOLOGISTS CHEMISTS PHYSICISTS MATHEMATICIANS PEOPLE THAT ARE STUDYING\\\", \\\"start\\\": 29.7579375, \\\"end\\\": 37.032875000000004, \\\"segment_word_list\\\": [{\\\"word\\\": \\\"IT'S\\\", \\\"start\\\": 29.7579375, \\\"end\\\": 30.181250000000002}, {\\\"word\\\": \\\"FASCINATING\\\", \\\"start\\\": 30.380625, \\\"end\\\": 30.9450625}, {\\\"word\\\": \\\"WE'VE\\\", \\\"start\\\": 31.0035, \\\"end\\\": 31.166124999999997}, {\\\"word\\\": \\\"GOT\\\", \\\"start\\\": 31.1843125, \\\"end\\\": 31.3469375}, {\\\"word\\\": \\\"ENGINEERS\\\", \\\"start\\\": 31.38525, \\\"end\\\": 31.8894375}, {\\\"word\\\": \\\"WE\\\", \\\"start\\\": 31.9276875, \\\"end\\\": 32.03}, {\\\"word\\\": \\\"HAVE\\\", \\\"start\\\": 32.04825, \\\"end\\\": 32.1706875}, {\\\"word\\\": \\\"BIOLOGISTS\\\", \\\"start\\\": 32.209, \\\"end\\\": 32.733250000000005}, {\\\"word\\\": \\\"CHEMISTS\\\", \\\"start\\\": 32.7916875, \\\"end\\\": 33.49675}, {\\\"word\\\": \\\"PHYSICISTS\\\", \\\"start\\\": 33.57525, \\\"end\\\": 34.119625}, {\\\"word\\\": \\\"MATHEMATICIANS\\\", \\\"start\\\": 34.8410625, \\\"end\\\": 35.727125}, {\\\"word\\\": \\\"PEOPLE\\\", \\\"start\\\": 36.2070625, \\\"end\\\": 36.4301875}, {\\\"word\\\": \\\"THAT\\\", \\\"start\\\": 36.448125, \\\"end\\\": 36.550687499999995}, {\\\"word\\\": \\\"ARE\\\", \\\"start\\\": 36.58875, \\\"end\\\": 36.691312499999995}, {\\\"word\\\": \\\"STUDYING\\\", \\\"start\\\": 36.7093125, \\\"end\\\": 37.032875000000004}], \\\"video_filename_stem\\\": \\\"Xl2xY6hdTzU_Laurentian University - Universit\\\\u00e9 Laurentienne_215_Celebrating women in science!\\\", \\\"video_filepath\\\": \\\"/tmp/parallel_13/Xl2xY6hdTzU_Laurentian University - Universit\\\\u00e9 Laurentienne_215_Celebrating women in science!.webm\\\"}, {\\\"caption\\\": \\\"IN VETERINARY AND SCIENCE SO WOMEN OF ALL DIFFERENT AGES DIVERSITY IN TERMS OF CULTURAL\\\", \\\"start\\\": 37.070875, \\\"end\\\": 42.3761875, \\\"segment_word_list\\\": [{\\\"word\\\": \\\"IN\\\", \\\"start\\\": 37.070875, \\\"end\\\": 37.153375000000004}, {\\\"word\\\": \\\"VETERINARY\\\", \\\"start\\\": 37.312, \\\"end\\\": 37.79625}, {\\\"word\\\": \\\"AND\\\", \\\"start\\\": 37.854375, \\\"end\\\": 37.956937499999995}, {\\\"word\\\": \\\"SCIENCE\\\", \\\"start\\\": 37.995, \\\"end\\\": 38.338625}, {\\\"word\\\": \\\"SO\\\", \\\"start\\\": 38.6378125, \\\"end\\\": 38.7805625}, {\\\"word\\\": \\\"WOMEN\\\", \\\"start\\\": 38.83875, \\\"end\\\": 39.04175}, {\\\"word\\\": \\\"OF\\\", \\\"start\\\": 39.0798125, \\\"end\\\": 39.122125000000004}, {\\\"word\\\": \\\"ALL\\\", \\\"start\\\": 39.2003125, \\\"end\\\": 39.32325}, {\\\"word\\\": \\\"DIFFERENT\\\", \\\"start\\\": 39.361, \\\"end\\\": 39.9056875}, {\\\"word\\\": \\\"AGES\\\", \\\"start\\\": 40.1443125, \\\"end\\\": 40.488187499999995}, {\\\"word\\\": \\\"DIVERSITY\\\", \\\"start\\\": 40.5058125, \\\"end\\\": 41.2915625}, {\\\"word\\\": \\\"IN\\\", \\\"start\\\": 41.30925, \\\"end\\\": 41.4120625}, {\\\"word\\\": \\\"TERMS\\\", \\\"start\\\": 41.510125, \\\"end\\\": 41.79375}, {\\\"word\\\": \\\"OF\\\", \\\"start\\\": 41.8314375, \\\"end\\\": 41.9141875}, {\\\"word\\\": \\\"CULTURAL\\\", \\\"start\\\": 41.9720625, \\\"end\\\": 42.3761875}], \\\"video_filename_stem\\\": \\\"Xl2xY6hdTzU_Laurentian University - Universit\\\\u00e9 Laurentienne_215_Celebrating women in science!\\\", \\\"video_filepath\\\": \\\"/tmp/parallel_13/Xl2xY6hdTzU_Laurentian University - Universit\\\\u00e9 Laurentienne_215_Celebrating women in science!.webm\\\"}]\"\n"
     ]
    }
   ],
   "source": [
    "!head -n1 '/scratch/bbki/kastanday/whisper/parallel_13_whisper_output.jsonl'"
   ]
  },
  {
   "cell_type": "code",
   "execution_count": null,
   "metadata": {},
   "outputs": [],
   "source": []
  }
 ],
 "metadata": {
  "kernelspec": {
   "display_name": "Python 3.8.13 ('v3_clip_preprocessing_yt1b')",
   "language": "python",
   "name": "python3"
  },
  "language_info": {
   "codemirror_mode": {
    "name": "ipython",
    "version": 3
   },
   "file_extension": ".py",
   "mimetype": "text/x-python",
   "name": "python",
   "nbconvert_exporter": "python",
   "pygments_lexer": "ipython3",
   "version": "3.8.13"
  },
  "orig_nbformat": 4,
  "vscode": {
   "interpreter": {
    "hash": "6eb6100c75610da3070ca1054b4cce20eed66c5f40697de0f2f8549a9f67965f"
   }
  }
 },
 "nbformat": 4,
 "nbformat_minor": 2
}
