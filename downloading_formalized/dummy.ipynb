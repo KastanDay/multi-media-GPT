{
 "cells": [
  {
   "cell_type": "code",
   "execution_count": 3,
   "metadata": {},
   "outputs": [
    {
     "name": "stdout",
     "output_type": "stream",
     "text": [
      "Verify commands are correct:\n",
      "yt-dlp -f 'bv*[height<=360]+ba/b[height<=480]' -P /mnt/storage_hdd/thesis/yt_1b_dataset/yt_1b_train/parallel_0 --batch-file /home/kastan/thesis/video-pretrained-transformer/yt_download/__source/train_id_collection/yt_1b_train_id_list_0.txt --download-archive /mnt/storage_hdd/thesis/yt_1b_dataset/yt_1b_train/parallel_0/yt_1b_train_download_record_0.txt -P temp:/tmp -N 5 -o '%(id)s_%(channel)s_%(view_count)s_%(title)s.%(ext)s' --min-views 500 --proxy 69.30.217.114:19014 --write-subs\n",
      "Parallel downloads:  10\n"
     ]
    }
   ],
   "source": [
    "  import shlex\n",
    "  golden_command = \"\"\"yt-dlp -f 'bv*[height<=360]+ba/b[height<=480]' \\\n",
    "  -P /mnt/storage_hdd/thesis/yt_1b_dataset/yt_1b_train/parallel_{process_num} \\\n",
    "  --batch-file /home/kastan/thesis/video-pretrained-transformer/yt_download/__source/train_id_collection/yt_1b_train_id_list_{process_num}.txt \\\n",
    "  --download-archive /mnt/storage_hdd/thesis/yt_1b_dataset/yt_1b_train/parallel_{process_num}/yt_1b_train_download_record_{process_num}.txt \\\n",
    "  -P 'temp:/tmp' \\\n",
    "  -N 5 \\\n",
    "  -o '%(id)s_%(channel)s_%(view_count)s_%(title)s.%(ext)s' \\\n",
    "  --min-views 500 \\\n",
    "  --proxy 69.30.217.114:19014 \\\n",
    "  --write-subs\"\"\"\n",
    "  final_subprocess_commands = []\n",
    "  for i in range(10):\n",
    "    final_subprocess_commands.append(shlex.split(golden_command.format(process_num=i)))\n",
    "  print(\"Verify commands are correct:\")\n",
    "  print(shlex.join(final_subprocess_commands[0]))\n",
    "  # print()\n",
    "  # print(shlex.join(final_subprocess_commands[1]))\n",
    "  print(\"Parallel downloads: \", len(final_subprocess_commands))"
   ]
  },
  {
   "cell_type": "markdown",
   "metadata": {},
   "source": [
    "## Get videos into handpicked folders\n",
    "\n",
    "[] `Wall Street Journal`\n",
    "[] `Corridor Crew`\n",
    "[] `CinemaSins`\n",
    "[] `Matt D'Avella`\n",
    "[] `Berm Peak`"
   ]
  },
  {
   "cell_type": "code",
   "execution_count": 12,
   "metadata": {},
   "outputs": [],
   "source": []
  },
  {
   "cell_type": "code",
   "execution_count": 13,
   "metadata": {},
   "outputs": [],
   "source": [
    "import os\n",
    "import shutil\n",
    "channel_list = ['wall_street_journal', 'corridor_crew', 'cinemasins', 'matt_davella', 'berm_peak']\n",
    "channel_human_list = ['Wall Street Journal', 'Corridor Crew', 'CinemaSins', 'Matt D\\'Avella', 'Berm Peak']\n",
    "\n",
    "root_dir = '/home/kastan/thesis/video-pretrained-transformer/yt_download'\n",
    "save_dir = '/mnt/storage_hdd/thesis/handpicked_downloads'\n",
    "\n",
    "file_list = os.listdir(root_dir)\n",
    "\n",
    "for channel_dir, channel_human_name in zip(channel_list, channel_human_list):\n",
    "  if not os.path.exists(os.path.join(save_dir, channel_dir)):\n",
    "    os.makedirs(os.path.join(save_dir, channel_dir), exist_ok=True)\n",
    "  \n",
    "  for name in file_list:\n",
    "    if channel_human_name in name:\n",
    "      # move file from root_dir to save_dir\n",
    "      if not os.path.exists(os.path.join(save_dir, channel_dir, name)):\n",
    "        shutil.copy(os.path.join(root_dir, name), os.path.join(save_dir, channel_dir))\n",
    "    "
   ]
  },
  {
   "cell_type": "code",
   "execution_count": null,
   "metadata": {},
   "outputs": [],
   "source": []
  },
  {
   "cell_type": "code",
   "execution_count": null,
   "metadata": {},
   "outputs": [],
   "source": []
  },
  {
   "cell_type": "code",
   "execution_count": null,
   "metadata": {},
   "outputs": [],
   "source": []
  },
  {
   "cell_type": "code",
   "execution_count": null,
   "metadata": {},
   "outputs": [],
   "source": []
  }
 ],
 "metadata": {
  "kernelspec": {
   "display_name": "nlp_v2",
   "language": "python",
   "name": "python3"
  },
  "language_info": {
   "codemirror_mode": {
    "name": "ipython",
    "version": 3
   },
   "file_extension": ".py",
   "mimetype": "text/x-python",
   "name": "python",
   "nbconvert_exporter": "python",
   "pygments_lexer": "ipython3",
   "version": "3.8.13"
  },
  "orig_nbformat": 4,
  "vscode": {
   "interpreter": {
    "hash": "612b182cb4c3e0acfd877acc6c10f43d075b0ae43380d6b249d2d2b5490153b2"
   }
  }
 },
 "nbformat": 4,
 "nbformat_minor": 2
}
