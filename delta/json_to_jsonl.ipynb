{
 "cells": [
  {
   "cell_type": "code",
   "execution_count": 9,
   "metadata": {},
   "outputs": [
    {
     "name": "stdout",
     "output_type": "stream",
     "text": [
      "loading parallel_3\n",
      "len(files):  4532\n",
      "Done parallel_3\n",
      "loading parallel_4\n",
      "len(files):  11047\n",
      "Done parallel_4\n",
      "loading parallel_5\n",
      "len(files):  11949\n",
      "Done parallel_5\n",
      "loading parallel_6\n",
      "len(files):  11134\n",
      "Done parallel_6\n",
      "loading parallel_7\n",
      "len(files):  11226\n",
      "Done parallel_7\n",
      "loading parallel_8\n",
      "len(files):  0\n",
      "Done parallel_8\n"
     ]
    }
   ],
   "source": [
    "import json\n",
    "import jsonlines\n",
    "import glob\n",
    "\n",
    "# FOLDERNAME = 'parallel_2'\n",
    "FOLDERNAME_LIST = ['parallel_3',\n",
    "              'parallel_4',\n",
    "              'parallel_5',\n",
    "              'parallel_6',\n",
    "              'parallel_7',\n",
    "              'parallel_8',\n",
    "              ]\n",
    "\n",
    "for FOLDERNAME in FOLDERNAME_LIST:\n",
    "  JSON_INPUT_DIR = f'/scratch/bbki/kastanday/whisper/{FOLDERNAME}_json/*' # must end with * !!\n",
    "  JSONL_OUTPUT_DIR = f'/scratch/bbki/kastanday/whisper/{FOLDERNAME}_output.jsonl'\n",
    "  print(f\"loading {FOLDERNAME}\")\n",
    "  files = glob.glob(JSON_INPUT_DIR)\n",
    "  print(\"len(files): \", len(files))\n",
    "\n",
    "  with jsonlines.open(JSONL_OUTPUT_DIR, mode='a') as writer:\n",
    "    # open each file, read the json and APPEND that out.\n",
    "    for file in files:\n",
    "      with open(file, 'rb') as f:\n",
    "        \n",
    "        try:\n",
    "          json_data = json.load(f) # load data\n",
    "          # todo: iterate thru and add file_stem and file_path...\n",
    "          writer.write(json_data)     # write data\n",
    "        except Exception as e:\n",
    "          print(f\"Error reading/writing file {file}.Error: {e}\")\n",
    "    # todo, check length of output & delete originals.\n",
    "    # warning: length of output might be slightly less due to errors (VERY FEW, like 1 per 10k files)\n",
    "    # subprocess.run(shelex(\"rm -rf \" + JSON_INPUT_DIR), shell=True)\n",
    "    # subprocess.run(shelex(\"rm -rf \" + JSON_INPUT_DIR), shell=True)\n",
    "    # assert \n",
    "  print(\"Done {}\".format(FOLDERNAME))"
   ]
  },
  {
   "cell_type": "code",
   "execution_count": null,
   "metadata": {},
   "outputs": [],
   "source": []
  }
 ],
 "metadata": {
  "kernelspec": {
   "display_name": "Python 3.8.15 ('clip_preprocessing_yt1b')",
   "language": "python",
   "name": "python3"
  },
  "language_info": {
   "codemirror_mode": {
    "name": "ipython",
    "version": 3
   },
   "file_extension": ".py",
   "mimetype": "text/x-python",
   "name": "python",
   "nbconvert_exporter": "python",
   "pygments_lexer": "ipython3",
   "version": "3.8.15"
  },
  "orig_nbformat": 4,
  "vscode": {
   "interpreter": {
    "hash": "2e535d39f564e55bff9c6baf5eb9ec6b49bcf6b2f4f0c651076b071df78a0888"
   }
  }
 },
 "nbformat": 4,
 "nbformat_minor": 2
}
