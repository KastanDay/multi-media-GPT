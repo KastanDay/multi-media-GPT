{
 "cells": [
  {
   "cell_type": "code",
   "execution_count": null,
   "metadata": {},
   "outputs": [],
   "source": [
    "# Importing the library\n",
    "import time\n",
    "\n",
    "# Getting % usage of virtual_memory ( 3rd field)\n",
    "print('RAM memory % used:', psutil.virtual_memory()[2])\n",
    "# Getting usage of virtual_memory in GB ( 4th field)\n",
    "\n",
    "\n",
    "import psutil\n",
    "while True: \n",
    "  print('RAM Used (GB):', psutil.virtual_memory()[3]/1000000000)\n",
    "  print(f'RAM memory % used: {psutil.virtual_memory()[2]}%')\n",
    "  if psutil.virtual_memory()[2] > 90:\n",
    "    print(\"Memory usage is high, exiting\")\n",
    "    ray.stop()\n",
    "    break\n",
    "  \n",
    "  time.sleep(10)\n"
   ]
  },
  {
   "cell_type": "code",
   "execution_count": null,
   "metadata": {},
   "outputs": [],
   "source": [
    "import os\n",
    "INPUT_DIR_TO_TRANSCRIBE = \"/tmp/hi\"\n",
    "res = os.path.join(INPUT_DIR_TO_TRANSCRIBE, '*')\n",
    "res"
   ]
  },
  {
   "cell_type": "code",
   "execution_count": null,
   "metadata": {},
   "outputs": [],
   "source": []
  }
 ],
 "metadata": {
  "kernelspec": {
   "display_name": "Python 3.9.12 ('v2_nice_base')",
   "language": "python",
   "name": "python3"
  },
  "language_info": {
   "name": "python",
   "version": "3.9.12"
  },
  "orig_nbformat": 4,
  "vscode": {
   "interpreter": {
    "hash": "397a23723ca42ecbc8dbf36d816e7f4e0fffa8b9b749872dba5676ecc21df1fb"
   }
  }
 },
 "nbformat": 4,
 "nbformat_minor": 2
}
