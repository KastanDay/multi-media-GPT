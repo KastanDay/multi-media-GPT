{
 "cells": [
  {
   "cell_type": "code",
   "execution_count": 1,
   "metadata": {},
   "outputs": [
    {
     "name": "stderr",
     "output_type": "stream",
     "text": [
      "/home/kastan/utils/miniconda3/envs/custom_huggingface/lib/python3.8/site-packages/tqdm/auto.py:22: TqdmWarning: IProgress not found. Please update jupyter and ipywidgets. See https://ipywidgets.readthedocs.io/en/stable/user_install.html\n",
      "  from .autonotebook import tqdm as notebook_tqdm\n"
     ]
    }
   ],
   "source": [
    "import jsonlines\n",
    "import os\n",
    "import json\n",
    "import glob\n",
    "import numpy as np\n",
    "import pathlib\n",
    "from numpy import load\n",
    "import torch\n",
    "import lovely_tensors as lt\n",
    "lt.monkey_patch()\n",
    "import tqdm\n",
    "# device = \"cuda\" if torch.cuda.is_available() else \"cpu\"\n",
    "device = \"cpu\"\n",
    "\n",
    "# DEBUGGING \n",
    "os.environ[\"CUDA_LAUNCH_BLOCKING\"] = \"1\""
   ]
  },
  {
   "cell_type": "code",
   "execution_count": 3,
   "metadata": {},
   "outputs": [],
   "source": [
    "dir_name = \"parallel_15\"\n",
    "REMOTE_WHISPER_FILE = f'/mnt/storage_hdd/thesis/yt_1b_dataset/yt_1b_train/{dir_name}_whisper_output.jsonl'\n",
    "REMOTE_CLIP_DIR  = f'/mnt/storage_hdd/thesis/yt_1b_dataset/yt_1b_train/{dir_name}_clip_output'\n",
    "REMOTE_SCENE_FILE = f'/mnt/storage_hdd/thesis/yt_1b_dataset/yt_1b_train/{dir_name}_scene_output.jsonl'"
   ]
  },
  {
   "cell_type": "code",
   "execution_count": 4,
   "metadata": {},
   "outputs": [],
   "source": [
    "# Instantiate clip\n",
    "import clip\n",
    "\n",
    "MODEL_SIZE = 'ViT-L/14@336px'  # Best models are (1st) ViT-L/14@336px and (2nd) ViT-L/14. I don't recommend going lower.  \n",
    "clip_instance, clip_preprocess = clip.load(MODEL_SIZE, device)"
   ]
  },
  {
   "cell_type": "code",
   "execution_count": 4,
   "metadata": {},
   "outputs": [],
   "source": [
    "from transformers import GPT2Tokenizer, OPTForCausalLM\n",
    "t5 = OPTForCausalLM.from_pretrained(\"facebook/opt-125m\").to(device)\n",
    "t5_tokenizer = GPT2Tokenizer.from_pretrained(\"facebook/opt-125m\")\n",
    "\n",
    "learning_rate       = 1e-4  # also good: 3e-4\n",
    "optimizer = torch.optim.AdamW(params =  t5.parameters(), lr=learning_rate) # Typically, 1e-4 and 3e-4 work well for most problems\n",
    "\n",
    "# prompt = \"Hey, are you consciours? Can you talk to me?\"\n",
    "# inputs = tokenizer(prompt, return_tensors=\"pt\")\n",
    "\n",
    "# # Generate\n",
    "# generate_ids = model.generate(inputs.input_ids, max_length=30)\n",
    "# tokenizer.batch_decode(generate_ids, skip_special_tokens=True, clean_up_tokenization_spaces=False)[0]"
   ]
  },
  {
   "cell_type": "code",
   "execution_count": null,
   "metadata": {},
   "outputs": [],
   "source": [
    "from transformers import RobertaForCausalLM, RobertaTokenizer\n",
    "MODEL_NAME = \"roberta-base\"\n",
    "t5 = RobertaForCausalLM.from_pretrained(MODEL_NAME, torch_dtype=torch.float32, low_cpu_mem_usage=False).to(device) # float16, True\n",
    "t5_tokenizer = RobertaTokenizer.from_pretrained(MODEL_NAME, return_special_tokens_mask=True)"
   ]
  },
  {
   "cell_type": "code",
   "execution_count": 4,
   "metadata": {},
   "outputs": [],
   "source": [
    "# T5\n",
    "from transformers import T5Tokenizer, T5ForConditionalGeneration, T5Model, T5Config, AutoModelWithLMHead\n",
    "\n",
    "'''\n",
    "MODEL SELECTION\n",
    "\n",
    "T5 V1.1 --  https://huggingface.co/docs/transformers/model_doc/t5v1.1 && https://github.com/google-research/text-to-text-transfer-transformer/blob/main/released_checkpoints.md#t511\n",
    "small - base - large - 3b/xl - 11b/xxl\n",
    "\n",
    "OG: t5-small\n",
    "\n",
    "'google/t5-base-lm-adapt' # largest on my server (without float16)\n",
    "'google/t5-xl-lm-adapt'\n",
    "\n",
    "google/t5-v1_1-large\n",
    "'''\n",
    "\n",
    "# MODEL_SIZE = \"t5-base\"\n",
    "MODEL_NAME = \"google/t5-v1_1-base\"\n",
    "# MODEL_NAME = \"google/t5-base-lm-adapt\"\n",
    "# config = T5Config.from_pretrained(MODEL_NAME)\n",
    "t5 = T5ForConditionalGeneration.from_pretrained(MODEL_NAME, torch_dtype=torch.float32, low_cpu_mem_usage=False).to(device) # float16, True\n",
    "t5_tokenizer = T5Tokenizer.from_pretrained(MODEL_NAME, return_special_tokens_mask=True)\n",
    "# low_cpu_mem_usage(bool, optional) — Tries to not use more than 1x model size in CPU memory (including peak memory) while loading the model. experimental.\n",
    "learning_rate       = 1e-4  # also good: 3e-4\n",
    "optimizer = torch.optim.AdamW(params =  t5.parameters(), lr=learning_rate) # Typically, 1e-4 and 3e-4 work well for most problems\n"
   ]
  },
  {
   "cell_type": "code",
   "execution_count": 5,
   "metadata": {},
   "outputs": [
    {
     "data": {
      "text/plain": [
       "torch.nn.modules.linear.Linear"
      ]
     },
     "execution_count": 5,
     "metadata": {},
     "output_type": "execute_result"
    }
   ],
   "source": [
    "type(t5.lm_head)"
   ]
  },
  {
   "cell_type": "code",
   "execution_count": null,
   "metadata": {},
   "outputs": [],
   "source": [
    "# Cockpit ML Debugger\n",
    "# https://cockpit.readthedocs.io/en/latest/examples/01_basic_fmnist.html\n",
    "from backpack import extend\n",
    "from cockpit import Cockpit, CockpitPlotter\n",
    "from cockpit.utils.configuration import configuration\n",
    "\n",
    "t5 = extend(t5)\n",
    "\n",
    "individual_loss_fn = torch.nn.CrossEntropyLoss(ignore_index=-100)\n",
    "\n",
    "# Create Cockpit and a plotter\n",
    "cockpit = Cockpit(t5.parameters(), quantities=configuration(\"full\"))\n",
    "plotter = CockpitPlotter()"
   ]
  },
  {
   "cell_type": "code",
   "execution_count": null,
   "metadata": {},
   "outputs": [],
   "source": [
    "''' just for trying the debugger cockpit'''\n",
    "\n",
    "\n",
    "# Iterate through the batch\n",
    "clip_15 = os.listdir(REMOTE_CLIP_DIR)\n",
    "\n",
    "# Initialize embeddings\n",
    "one_input_shape = [1, 768, 768]\n",
    "att_mask_shape = [1, 768]\n",
    "embed_shape = [1, 768]\n",
    "\n",
    "input_embeds_arr = torch.zeros(one_input_shape).to(device) # .astype(np.float16)\n",
    "attn_mask_arr    = torch.zeros(att_mask_shape).to(device)\n",
    "attn_mask_arr[0][0] = 1\n",
    "attn_mask_arr[0][1] = 1\n",
    "attn_mask_arr[0][2] = 1 # no clip\n",
    "\n",
    "t5.train()\n",
    "\n",
    "global_step = 0 \n",
    "\n",
    "with jsonlines.open(REMOTE_SCENE_FILE, 'r') as scene_reader:\n",
    "    # Zipping the scene graph with the clip + whisper embeddings\n",
    "    \n",
    "    # itr over videos\n",
    "    for scene_seg_list, clip_npz_path in tqdm.tqdm(zip(scene_reader, glob.glob(os.path.join(REMOTE_CLIP_DIR, '*'), recursive = True))):\n",
    "        try:\n",
    "            np_loaded = np.load(clip_npz_path, allow_pickle=True)\n",
    "        except Exception as e:\n",
    "            print(f\"Failed to load compressed numpy: {e}\")\n",
    "            continue\n",
    "        object_list_of_str = []\n",
    "        scene_seg_list = json.loads(scene_seg_list)\n",
    "        \n",
    "        # iterate over segments\n",
    "        for segment_index in range(np_loaded['arr_0'].item()['total_segments']):\n",
    "            # print(np_loaded[f'arr_{segment_index}'].item()['captions'])\n",
    "            frame_embedding       = np_loaded[f'arr_{segment_index}'].item()['frame_embeddings']\n",
    "            caption_embedding     = np_loaded[f'arr_{segment_index}'].item()['text_caption_embeddings']\n",
    "            whisper_text_captions = np_loaded[f'arr_{segment_index}'].item()['captions']\n",
    "            \n",
    "            frame_embedding       = torch.from_numpy(frame_embedding.reshape((768,))).to(device)\n",
    "            caption_embedding     = torch.from_numpy(caption_embedding).to(device)\n",
    "\n",
    "            # Update embedding array\n",
    "            input_embeds_arr[0][0] = frame_embedding\n",
    "            input_embeds_arr[0][1] = caption_embedding\n",
    "            \n",
    "            # print(\"Input shapes:\")\n",
    "            # print(caption_embedding)\n",
    "            print(frame_embedding)\n",
    "            labels = t5_tokenizer(whisper_text_captions, return_tensors=\"pt\").input_ids.to(device)\n",
    "            # outputs = t5.forward(inputs_embeds=input_embeds_arr, attention_mask=attn_mask_arr, decoder_inputs_embeds=input_embeds_arr)\n",
    "            outputs = t5.forward(inputs_embeds=input_embeds_arr, attention_mask=attn_mask_arr, labels=labels, return_dict=True)\n",
    "            # outputs = t5.forward(inputs_embeds=input_embeds_arr, labels=labels)\n",
    "            loss = outputs[0]\n",
    "            print(\"loss\")\n",
    "            print(loss)\n",
    "            logits = outputs[1]\n",
    "            # print(\"logits\")\n",
    "            # print(logits)\n",
    "            individual_losses = individual_loss_fn(logits.view(-1, logits.size(-1)), labels.view(-1))\n",
    "            # print(\"individual_losses\")\n",
    "            # print(individual_losses)\n",
    "            # loss = \n",
    "            for item in outputs:\n",
    "                print(item)\n",
    "            ''' backwards pass '''\n",
    "            # loss.sum().backward()\n",
    "            # backward pass\n",
    "            with cockpit(\n",
    "                global_step,\n",
    "                info={\n",
    "                    \"batch_size\": one_input_shape[0],\n",
    "                    \"individual_losses\": individual_losses,\n",
    "                    \"loss\": loss,\n",
    "                    \"optimizer\": optimizer,\n",
    "                },\n",
    "            ):\n",
    "                loss.backward(create_graph=cockpit.create_graph(global_step))\n",
    "            \n",
    "            # optimizer step\n",
    "            optimizer.zero_grad()\n",
    "            optimizer.step()\n",
    "            global_step += 1\n",
    "            print(f\"step: {global_step}\")\n",
    "            plotter.plot(cockpit)\n",
    "            \n",
    "            print(\"Loss 👇👇👇\")\n",
    "            print(loss)\n",
    "            break\n",
    "        break\n"
   ]
  },
  {
   "cell_type": "markdown",
   "metadata": {},
   "source": []
  },
  {
   "cell_type": "markdown",
   "metadata": {},
   "source": []
  },
  {
   "cell_type": "markdown",
   "metadata": {},
   "source": []
  },
  {
   "cell_type": "markdown",
   "metadata": {},
   "source": []
  },
  {
   "cell_type": "code",
   "execution_count": null,
   "metadata": {},
   "outputs": [],
   "source": [
    "# from transformers import RobertaConfig\n",
    "# OPTConfig.from_pretrained(\"roberta-base\")\n",
    "from transformers import OPTConfig\n",
    "OPTConfig.from_pretrained(\"facebook/opt-125m\")"
   ]
  },
  {
   "cell_type": "code",
   "execution_count": null,
   "metadata": {},
   "outputs": [],
   "source": [
    "''' More complete '''\n",
    "\n",
    "# Initialize embeddings\n",
    "# one_input_shape = [1, 768, 768]\n",
    "# att_mask_shape = [1, 768]\n",
    "# embed_shape = [1, 768]\n",
    "one_input_shape = [1, 2048, 768]  # torch.FloatTensor of shape (batch_size, sequence_length, hidden_size)\n",
    "att_mask_shape = [1, 2048]        # \n",
    "embed_shape = [1, 768]\n",
    "\n",
    "input_embeds_arr = torch.zeros(one_input_shape, device=device)\n",
    "attn_mask_arr    = torch.zeros(att_mask_shape, device=device)\n",
    "labels    = torch.zeros(att_mask_shape, dtype=int, device=device)\n",
    "print(labels.dtype)\n",
    "labels[:len(labels)] = -100\n",
    "attn_mask_arr[0][0] = 1\n",
    "attn_mask_arr[0][1] = 1\n",
    "# attn_mask_arr[0][2] = 1 # no clip\n",
    "\n",
    "t5.train()\n",
    "\n",
    "global_step = 0 \n",
    "\n",
    "with jsonlines.open(REMOTE_SCENE_FILE, 'r') as scene_reader:\n",
    "    # Zipping the scene graph with the clip + whisper embeddings\n",
    "    # itr over videos\n",
    "    for scene_seg_list, clip_npz_path in tqdm.tqdm(zip(scene_reader, glob.glob(os.path.join(REMOTE_CLIP_DIR, '*'), recursive = True))):\n",
    "        try:\n",
    "            np_loaded = np.load(clip_npz_path, allow_pickle=True)\n",
    "        except Exception as e:\n",
    "            print(f\"Failed to load compressed numpy: {e}\")\n",
    "            continue\n",
    "        object_list_of_str = []\n",
    "        scene_seg_list = json.loads(scene_seg_list)\n",
    "        \n",
    "        # iterate over segments\n",
    "        for segment_index in range(np_loaded['arr_0'].item()['total_segments']):\n",
    "            frame_embedding       = np_loaded[f'arr_{segment_index}'].item()['frame_embeddings']\n",
    "            caption_embedding     = np_loaded[f'arr_{segment_index}'].item()['text_caption_embeddings']\n",
    "            whisper_text_captions = np_loaded[f'arr_{segment_index}'].item()['captions']\n",
    "            \n",
    "            frame_embedding       = torch.from_numpy(frame_embedding.reshape((768,))).to(device)\n",
    "            caption_embedding     = torch.from_numpy(caption_embedding).to(device)\n",
    "\n",
    "            scene_caption = scene_seg_list[segment_index]\n",
    "            scene_caption = clip.tokenize(scene_caption).to(device)\n",
    "            with torch.inference_mode(): # even faster than no_grad()\n",
    "                scene_embedding = clip_instance.encode_text(scene_caption)\n",
    "            scene_embedding = scene_embedding.reshape((768,))\n",
    "\n",
    "            # Update embedding array\n",
    "            input_embeds_arr[0][0] = frame_embedding\n",
    "            input_embeds_arr[0][1] = caption_embedding\n",
    "            input_embeds_arr[0][2] = scene_embedding\n",
    "            \n",
    "            print(\"Input shapes:\")\n",
    "            print(input_embeds_arr.shape)\n",
    "            print(scene_embedding.shape)\n",
    "            print(caption_embedding.shape)\n",
    "            print(frame_embedding.shape)\n",
    "            tokenized_labels = t5_tokenizer(whisper_text_captions, return_tensors=\"pt\").input_ids.to(device)\n",
    "            print(\"tokenized_labels\")\n",
    "            print(tokenized_labels)\n",
    "            print(\"labels\")\n",
    "            print(labels)\n",
    "            print(labels.dtype)\n",
    "            labels[0][0:len(tokenized_labels[0])] = tokenized_labels[0]\n",
    "            # outputs = t5.forward(inputs_embeds=input_embeds_arr, attention_mask=attn_mask_arr, decoder_inputs_embeds=input_embeds_arr)\n",
    "            # outputs = t5.forward(inputs_embeds=input_embeds_arr, attention_mask=attn_mask_arr, labels=labels, return_dict=True)\n",
    "            # outputs = t5.forward(inputs_embeds=input_embeds_arr, labels=labels)\n",
    "            outputs = t5.forward(inputs_embeds=input_embeds_arr, attention_mask=attn_mask_arr, labels=labels, return_dict=True, return_last_hidden_state=True)\n",
    "            print(outputs['last_hidden_state'].shape)\n",
    "            \n",
    "            results = t5.lm_head(outputs['last_hidden_state'])\n",
    "            print(results)\n",
    "            # loss = outputs[0]\n",
    "            # ''' backwards pass '''\n",
    "            # loss.sum().backward()\n",
    "            # # optimizer step\n",
    "            # optimizer.zero_grad()\n",
    "            # optimizer.step()\n",
    "            # global_step += 1\n",
    "            print(f\"step: {global_step}\")\n",
    "            \n",
    "            print(\"Loss 👇👇👇\")\n",
    "            print(loss)\n",
    "            break\n",
    "        break\n"
   ]
  },
  {
   "cell_type": "code",
   "execution_count": 9,
   "metadata": {},
   "outputs": [
    {
     "name": "stdout",
     "output_type": "stream",
     "text": [
      "torch.int64\n"
     ]
    },
    {
     "name": "stderr",
     "output_type": "stream",
     "text": [
      "0it [00:00, ?it/s]"
     ]
    },
    {
     "name": "stdout",
     "output_type": "stream",
     "text": [
      "Input shapes:\n",
      "torch.Size([1, 768, 768])\n",
      "torch.Size([768])\n",
      "torch.Size([768])\n",
      "tokenized_labels\n",
      "tensor[1, 33] i64 x∈[1, 25000] μ=6.060e+03 σ=8.433e+03\n",
      "labels\n",
      "tensor[1, 768] i64 x∈[-100, -100] μ=-100.000 σ=0.\n",
      "torch.int64\n"
     ]
    },
    {
     "name": "stderr",
     "output_type": "stream",
     "text": [
      "0it [00:07, ?it/s]\n"
     ]
    },
    {
     "ename": "KeyError",
     "evalue": "'last_hidden_state'",
     "output_type": "error",
     "traceback": [
      "\u001b[0;31m---------------------------------------------------------------------------\u001b[0m",
      "\u001b[0;31mKeyError\u001b[0m                                  Traceback (most recent call last)",
      "\u001b[1;32m/home/kastan/thesis/video-pretrained-transformer/model/dataloader.ipynb Cell 16\u001b[0m in \u001b[0;36m<cell line: 24>\u001b[0;34m()\u001b[0m\n\u001b[1;32m     <a href='vscode-notebook-cell://ssh-remote%2Bkastan/home/kastan/thesis/video-pretrained-transformer/model/dataloader.ipynb#X16sdnNjb2RlLXJlbW90ZQ%3D%3D?line=67'>68</a>\u001b[0m \u001b[39m# outputs = t5.forward(inputs_embeds=input_embeds_arr, attention_mask=attn_mask_arr, decoder_inputs_embeds=input_embeds_arr)\u001b[39;00m\n\u001b[1;32m     <a href='vscode-notebook-cell://ssh-remote%2Bkastan/home/kastan/thesis/video-pretrained-transformer/model/dataloader.ipynb#X16sdnNjb2RlLXJlbW90ZQ%3D%3D?line=68'>69</a>\u001b[0m \u001b[39m# outputs = t5.forward(inputs_embeds=input_embeds_arr, attention_mask=attn_mask_arr, labels=labels, return_dict=True)\u001b[39;00m\n\u001b[1;32m     <a href='vscode-notebook-cell://ssh-remote%2Bkastan/home/kastan/thesis/video-pretrained-transformer/model/dataloader.ipynb#X16sdnNjb2RlLXJlbW90ZQ%3D%3D?line=69'>70</a>\u001b[0m \u001b[39m# outputs = t5.forward(inputs_embeds=input_embeds_arr, labels=labels)\u001b[39;00m\n\u001b[1;32m     <a href='vscode-notebook-cell://ssh-remote%2Bkastan/home/kastan/thesis/video-pretrained-transformer/model/dataloader.ipynb#X16sdnNjb2RlLXJlbW90ZQ%3D%3D?line=70'>71</a>\u001b[0m outputs \u001b[39m=\u001b[39m t5\u001b[39m.\u001b[39mforward(inputs_embeds\u001b[39m=\u001b[39minput_embeds_arr, attention_mask\u001b[39m=\u001b[39mattn_mask_arr, labels\u001b[39m=\u001b[39mlabels, return_dict\u001b[39m=\u001b[39m\u001b[39mTrue\u001b[39;00m, output_hidden_states\u001b[39m=\u001b[39m\u001b[39mTrue\u001b[39;00m)\n\u001b[0;32m---> <a href='vscode-notebook-cell://ssh-remote%2Bkastan/home/kastan/thesis/video-pretrained-transformer/model/dataloader.ipynb#X16sdnNjb2RlLXJlbW90ZQ%3D%3D?line=71'>72</a>\u001b[0m \u001b[39mprint\u001b[39m(outputs[\u001b[39m'\u001b[39;49m\u001b[39mlast_hidden_state\u001b[39;49m\u001b[39m'\u001b[39;49m]\u001b[39m.\u001b[39mshape)\n\u001b[1;32m     <a href='vscode-notebook-cell://ssh-remote%2Bkastan/home/kastan/thesis/video-pretrained-transformer/model/dataloader.ipynb#X16sdnNjb2RlLXJlbW90ZQ%3D%3D?line=73'>74</a>\u001b[0m results \u001b[39m=\u001b[39m t5\u001b[39m.\u001b[39mlm_head(outputs[\u001b[39m'\u001b[39m\u001b[39mlast_hidden_state\u001b[39m\u001b[39m'\u001b[39m])\n\u001b[1;32m     <a href='vscode-notebook-cell://ssh-remote%2Bkastan/home/kastan/thesis/video-pretrained-transformer/model/dataloader.ipynb#X16sdnNjb2RlLXJlbW90ZQ%3D%3D?line=74'>75</a>\u001b[0m \u001b[39mprint\u001b[39m(results)\n",
      "File \u001b[0;32m~/thesis/video-pretrained-transformer/model/transformers-VPT/src/transformers/utils/generic.py:271\u001b[0m, in \u001b[0;36mModelOutput.__getitem__\u001b[0;34m(self, k)\u001b[0m\n\u001b[1;32m    269\u001b[0m \u001b[39mif\u001b[39;00m \u001b[39misinstance\u001b[39m(k, \u001b[39mstr\u001b[39m):\n\u001b[1;32m    270\u001b[0m     inner_dict \u001b[39m=\u001b[39m {k: v \u001b[39mfor\u001b[39;00m (k, v) \u001b[39min\u001b[39;00m \u001b[39mself\u001b[39m\u001b[39m.\u001b[39mitems()}\n\u001b[0;32m--> 271\u001b[0m     \u001b[39mreturn\u001b[39;00m inner_dict[k]\n\u001b[1;32m    272\u001b[0m \u001b[39melse\u001b[39;00m:\n\u001b[1;32m    273\u001b[0m     \u001b[39mreturn\u001b[39;00m \u001b[39mself\u001b[39m\u001b[39m.\u001b[39mto_tuple()[k]\n",
      "\u001b[0;31mKeyError\u001b[0m: 'last_hidden_state'"
     ]
    }
   ],
   "source": [
    "''' More complete -- NO CLIP (for convienence) '''\n",
    "\n",
    "# Initialize embeddings\n",
    "one_input_shape = [1, 768, 768]\n",
    "att_mask_shape = [1, 768]\n",
    "embed_shape = [1, 768]\n",
    "# one_input_shape = [1, 2048, 768]  # torch.FloatTensor of shape (batch_size, sequence_length, hidden_size)\n",
    "# att_mask_shape = [1, 2048]        # \n",
    "# embed_shape = [1, 768]\n",
    "\n",
    "input_embeds_arr = torch.zeros(one_input_shape, device=device)\n",
    "attn_mask_arr    = torch.zeros(att_mask_shape, device=device)\n",
    "labels    = torch.zeros(att_mask_shape, dtype=int, device=device)\n",
    "print(labels.dtype)\n",
    "labels[:len(labels)] = -100\n",
    "attn_mask_arr[0][0] = 1\n",
    "attn_mask_arr[0][1] = 1\n",
    "# attn_mask_arr[0][2] = 1 # no clip\n",
    "\n",
    "t5.train()\n",
    "\n",
    "global_step = 0 \n",
    "\n",
    "with jsonlines.open(REMOTE_SCENE_FILE, 'r') as scene_reader:\n",
    "    # Zipping the scene graph with the clip + whisper embeddings\n",
    "    # itr over videos\n",
    "    for scene_seg_list, clip_npz_path in tqdm.tqdm(zip(scene_reader, glob.glob(os.path.join(REMOTE_CLIP_DIR, '*'), recursive = True))):\n",
    "        try:\n",
    "            np_loaded = np.load(clip_npz_path, allow_pickle=True)\n",
    "        except Exception as e:\n",
    "            print(f\"Failed to load compressed numpy: {e}\")\n",
    "            continue\n",
    "        object_list_of_str = []\n",
    "        scene_seg_list = json.loads(scene_seg_list)\n",
    "        \n",
    "        # iterate over segments\n",
    "        for segment_index in range(np_loaded['arr_0'].item()['total_segments']):\n",
    "            frame_embedding       = np_loaded[f'arr_{segment_index}'].item()['frame_embeddings']\n",
    "            caption_embedding     = np_loaded[f'arr_{segment_index}'].item()['text_caption_embeddings']\n",
    "            whisper_text_captions = np_loaded[f'arr_{segment_index}'].item()['captions']\n",
    "            \n",
    "            frame_embedding       = torch.from_numpy(frame_embedding.reshape((768,))).to(device)\n",
    "            caption_embedding     = torch.from_numpy(caption_embedding).to(device)\n",
    "\n",
    "            scene_caption = scene_seg_list[segment_index]\n",
    "            # scene_caption = clip.tokenize(scene_caption).to(device)\n",
    "            # with torch.inference_mode(): # even faster than no_grad()\n",
    "                # scene_embedding = clip_instance.encode_text(scene_caption)\n",
    "            # scene_embedding = scene_embedding.reshape((768,))\n",
    "\n",
    "            # Update embedding array\n",
    "            input_embeds_arr[0][0] = frame_embedding\n",
    "            input_embeds_arr[0][1] = caption_embedding\n",
    "            # input_embeds_arr[0][2] = scene_embedding\n",
    "            \n",
    "            print(\"Input shapes:\")\n",
    "            print(input_embeds_arr.shape)\n",
    "            # print(scene_embedding.shape)\n",
    "            print(caption_embedding.shape)\n",
    "            print(frame_embedding.shape)\n",
    "            tokenized_labels = t5_tokenizer(whisper_text_captions, return_tensors=\"pt\").input_ids.to(device)\n",
    "            print(\"tokenized_labels\")\n",
    "            print(tokenized_labels)\n",
    "            print(\"labels\")\n",
    "            print(labels)\n",
    "            print(labels.dtype)\n",
    "            labels[0][0:len(tokenized_labels[0])] = tokenized_labels[0]\n",
    "            # outputs = t5.forward(inputs_embeds=input_embeds_arr, attention_mask=attn_mask_arr, decoder_inputs_embeds=input_embeds_arr)\n",
    "            # outputs = t5.forward(inputs_embeds=input_embeds_arr, attention_mask=attn_mask_arr, labels=labels, return_dict=True)\n",
    "            # outputs = t5.forward(inputs_embeds=input_embeds_arr, labels=labels)\n",
    "            \n",
    "            decoder_input_ids = t5.forward()\n",
    "            output_ids = t5.generate(attention_mask=attn_mask_arr, decoder_input_ids=decoder_input_ids, inputs_embeds=input_embeds_arr, max_length=100, num_beams=4)\n",
    "\n",
    "            outputs = t5.forward(inputs_embeds=input_embeds_arr, attention_mask=attn_mask_arr, labels=labels, return_dict=True, output_hidden_states=True)\n",
    "            print(outputs['last_hidden_state'].shape)\n",
    "            \n",
    "            results = t5.lm_head(outputs['last_hidden_state'])\n",
    "            print(results)\n",
    "            # loss = outputs[0]\n",
    "            # ''' backwards pass '''\n",
    "            # loss.sum().backward()\n",
    "            # # optimizer step\n",
    "            # optimizer.zero_grad()\n",
    "            # optimizer.step()\n",
    "            # global_step += 1\n",
    "            print(f\"step: {global_step}\")\n",
    "            \n",
    "            print(\"Loss 👇👇👇\")\n",
    "            print(loss)\n",
    "            break\n",
    "        break\n"
   ]
  },
  {
   "cell_type": "code",
   "execution_count": 21,
   "metadata": {},
   "outputs": [
    {
     "data": {
      "text/plain": [
       "tensor[1, 33] i64 x∈[1, 25000] μ=6.060e+03 σ=8.433e+03"
      ]
     },
     "execution_count": 21,
     "metadata": {},
     "output_type": "execute_result"
    }
   ],
   "source": [
    "tokenized_labels"
   ]
  },
  {
   "cell_type": "code",
   "execution_count": 30,
   "metadata": {},
   "outputs": [
    {
     "data": {
      "image/png": "[encoded data removed]",
      "text/plain": [
       "<lovely_tensors.repr_plt.PlotProxy at 0x7fca3bdeacd0>"
      ]
     },
     "execution_count": 30,
     "metadata": {},
     "output_type": "execute_result"
    }
   ],
   "source": [
    "res = t5.lm_head(outputs['encoder_last_hidden_state'][0][0], shared_embedding=t5.shared)\n",
    "res.plt()"
   ]
  },
  {
   "cell_type": "code",
   "execution_count": 31,
   "metadata": {},
   "outputs": [
    {
     "ename": "AttributeError",
     "evalue": "'T5ForConditionalGeneration' object has no attribute 'get_output_layer_with_bias'",
     "output_type": "error",
     "traceback": [
      "\u001b[0;31m---------------------------------------------------------------------------\u001b[0m",
      "\u001b[0;31mAttributeError\u001b[0m                            Traceback (most recent call last)",
      "\u001b[1;32m/home/kastan/thesis/video-pretrained-transformer/model/dataloader.ipynb Cell 19\u001b[0m in \u001b[0;36m<cell line: 1>\u001b[0;34m()\u001b[0m\n\u001b[0;32m----> <a href='vscode-notebook-cell://ssh-remote%2Bkastan/home/kastan/thesis/video-pretrained-transformer/model/dataloader.ipynb#X54sdnNjb2RlLXJlbW90ZQ%3D%3D?line=0'>1</a>\u001b[0m t5\u001b[39m.\u001b[39;49mget_output_layer_with_bias()\n",
      "File \u001b[0;32m~/utils/miniconda3/envs/custom_huggingface/lib/python3.8/site-packages/torch/nn/modules/module.py:1207\u001b[0m, in \u001b[0;36mModule.__getattr__\u001b[0;34m(self, name)\u001b[0m\n\u001b[1;32m   1205\u001b[0m     \u001b[39mif\u001b[39;00m name \u001b[39min\u001b[39;00m modules:\n\u001b[1;32m   1206\u001b[0m         \u001b[39mreturn\u001b[39;00m modules[name]\n\u001b[0;32m-> 1207\u001b[0m \u001b[39mraise\u001b[39;00m \u001b[39mAttributeError\u001b[39;00m(\u001b[39m\"\u001b[39m\u001b[39m'\u001b[39m\u001b[39m{}\u001b[39;00m\u001b[39m'\u001b[39m\u001b[39m object has no attribute \u001b[39m\u001b[39m'\u001b[39m\u001b[39m{}\u001b[39;00m\u001b[39m'\u001b[39m\u001b[39m\"\u001b[39m\u001b[39m.\u001b[39mformat(\n\u001b[1;32m   1208\u001b[0m     \u001b[39mtype\u001b[39m(\u001b[39mself\u001b[39m)\u001b[39m.\u001b[39m\u001b[39m__name__\u001b[39m, name))\n",
      "\u001b[0;31mAttributeError\u001b[0m: 'T5ForConditionalGeneration' object has no attribute 'get_output_layer_with_bias'"
     ]
    }
   ],
   "source": [
    "t5.get_output_layer_with_bias()"
   ]
  },
  {
   "cell_type": "code",
   "execution_count": 32,
   "metadata": {},
   "outputs": [
    {
     "data": {
      "text/plain": [
       "tensor[1, 768, 768] n=589824 x∈[-3.743, 3.480] μ=0.008 σ=0.221 grad MulBackward0"
      ]
     },
     "execution_count": 32,
     "metadata": {},
     "output_type": "execute_result"
    }
   ],
   "source": [
    "outputs['encoder_last_hidden_state']"
   ]
  },
  {
   "cell_type": "code",
   "execution_count": 36,
   "metadata": {},
   "outputs": [],
   "source": [
    "decoder_input_ids = outputs['encoder_last_hidden_state']\n",
    "output_ids = t5.generate(attention_mask=attn_mask_arr, inputs_embeds=input_embeds_arr, max_length=768, num_beams=4)"
   ]
  },
  {
   "cell_type": "code",
   "execution_count": 41,
   "metadata": {},
   "outputs": [
    {
     "name": "stdout",
     "output_type": "stream",
     "text": [
      "leyedge  beCy\n"
     ]
    }
   ],
   "source": [
    "print(t5_tokenizer.decode(output_ids[0], skip_special_tokens=True))"
   ]
  },
  {
   "cell_type": "code",
   "execution_count": 28,
   "metadata": {},
   "outputs": [
    {
     "name": "stdout",
     "output_type": "stream",
     "text": [
      "0    tensor[768] x∈[-0.641, 0.664] μ=0.004 σ=0.206 grad SelectBackward0\n",
      "1    tensor[768] x∈[-0.819, 1.895] μ=0.005 σ=0.262 grad SelectBackward0\n",
      "2    tensor[768] x∈[-1.212, 2.202] μ=0.010 σ=0.257 grad SelectBackward0\n",
      "3    tensor[768] x∈[-1.842, 1.446] μ=0.011 σ=0.268 grad SelectBackward0\n",
      "4    tensor[768] x∈[-0.780, 0.905] μ=0.011 σ=0.253 grad SelectBackward0\n",
      "5    tensor[768] x∈[-0.409, 0.526] μ=0.006 σ=0.054 grad SelectBackward0\n",
      "6    tensor[768] x∈[-2.017, 2.062] μ=0.012 σ=0.269 grad SelectBackward0\n",
      "7    tensor[768] x∈[-1.222, 2.248] μ=0.013 σ=0.253 grad SelectBackward0\n",
      "8    tensor[768] x∈[-0.950, 0.782] μ=-0.006 σ=0.121 grad SelectBackward0\n",
      "9    tensor[768] x∈[-0.368, 0.582] μ=0.007 σ=0.076 grad SelectBackward0\n",
      "10    tensor[768] x∈[-1.840, 1.745] μ=0.003 σ=0.276 grad SelectBackward0\n",
      "11    tensor[768] x∈[-1.417, 1.333] μ=0.007 σ=0.256 grad SelectBackward0\n",
      "12    tensor[768] x∈[-0.878, 0.971] μ=-0.002 σ=0.154 grad SelectBackward0\n",
      "13    tensor[768] x∈[-1.169, 0.972] μ=0.014 σ=0.153 grad SelectBackward0\n",
      "14    tensor[768] x∈[-0.350, 0.489] μ=0.004 σ=0.048 grad SelectBackward0\n",
      "15    tensor[768] x∈[-0.439, 0.621] μ=0.003 σ=0.067 grad SelectBackward0\n",
      "16    tensor[768] x∈[-0.457, 0.248] μ=0.003 σ=0.062 grad SelectBackward0\n",
      "17    tensor[768] x∈[-0.952, 1.939] μ=0.014 σ=0.265 grad SelectBackward0\n",
      "18    tensor[768] x∈[-0.833, 2.797] μ=-0.005 σ=0.274 grad SelectBackward0\n",
      "19    tensor[768] x∈[-1.093, 3.173] μ=0.000 σ=0.278 grad SelectBackward0\n",
      "20    tensor[768] x∈[-1.327, 1.258] μ=0.005 σ=0.241 grad SelectBackward0\n",
      "21    tensor[768] x∈[-1.198, 1.670] μ=0.016 σ=0.232 grad SelectBackward0\n",
      "22    tensor[768] x∈[-0.730, 2.439] μ=0.010 σ=0.268 grad SelectBackward0\n",
      "23    tensor[768] x∈[-1.519, 1.539] μ=-0.003 σ=0.267 grad SelectBackward0\n",
      "24    tensor[768] x∈[-1.906, 1.837] μ=0.008 σ=0.269 grad SelectBackward0\n",
      "25    tensor[768] x∈[-0.623, 0.449] μ=0.007 σ=0.084 grad SelectBackward0\n",
      "26    tensor[768] x∈[-1.716, 2.238] μ=-0.009 σ=0.272 grad SelectBackward0\n",
      "27    tensor[768] x∈[-1.423, 2.154] μ=0.001 σ=0.269 grad SelectBackward0\n",
      "28    tensor[768] x∈[-1.078, 2.254] μ=0.003 σ=0.269 grad SelectBackward0\n",
      "29    tensor[768] x∈[-0.412, 0.445] μ=0.006 σ=0.051 grad SelectBackward0\n",
      "30    tensor[768] x∈[-1.106, 2.037] μ=0.013 σ=0.265 grad SelectBackward0\n",
      "31    tensor[768] x∈[-0.822, 2.528] μ=0.008 σ=0.257 grad SelectBackward0\n",
      "32    tensor[768] x∈[-1.766, 2.890] μ=0.001 σ=0.279 grad SelectBackward0\n",
      "33    tensor[768] x∈[-0.297, 0.514] μ=0.006 σ=0.053 grad SelectBackward0\n",
      "34    tensor[768] x∈[-1.095, 2.929] μ=0.004 σ=0.265 grad SelectBackward0\n",
      "35    tensor[768] x∈[-1.724, 2.031] μ=0.005 σ=0.253 grad SelectBackward0\n",
      "36    tensor[768] x∈[-0.387, 0.540] μ=0.006 σ=0.057 grad SelectBackward0\n",
      "37    tensor[768] x∈[-0.478, 0.520] μ=0.001 σ=0.044 grad SelectBackward0\n",
      "38    tensor[768] x∈[-0.332, 0.539] μ=0.009 σ=0.061 grad SelectBackward0\n",
      "39    tensor[768] x∈[-1.236, 1.905] μ=0.006 σ=0.249 grad SelectBackward0\n"
     ]
    }
   ],
   "source": [
    "outputs['encoder_last_hidden_state']\n",
    "\n",
    "for i in range(40):\n",
    "  print(i, \"  \",outputs['encoder_last_hidden_state'][0][i])\n",
    "  # display(outputs['encoder_last_hidden_state'][0][i].plt)"
   ]
  },
  {
   "cell_type": "code",
   "execution_count": null,
   "metadata": {},
   "outputs": [],
   "source": [
    "# t5.save_pretrained(\"BIG_PENIS_PREVAILS\")"
   ]
  },
  {
   "cell_type": "code",
   "execution_count": null,
   "metadata": {},
   "outputs": [],
   "source": [
    "labels[0][0:27]\n",
    "# len(tokenized_labels)"
   ]
  },
  {
   "cell_type": "markdown",
   "metadata": {},
   "source": []
  },
  {
   "attachments": {},
   "cell_type": "markdown",
   "metadata": {},
   "source": [
    "# Trying Inference with custom model"
   ]
  },
  {
   "attachments": {},
   "cell_type": "markdown",
   "metadata": {},
   "source": [
    "import jsonlines\n",
    "import os\n",
    "import json\n",
    "import glob\n",
    "import numpy as np\n",
    "import pathlib\n",
    "from numpy import load\n",
    "import lovely_tensors as lt\n",
    "lt.monkey_patch()\n",
    "import tqdm"
   ]
  },
  {
   "attachments": {},
   "cell_type": "markdown",
   "metadata": {},
   "source": [
    "import jsonlines\n",
    "import os\n",
    "import json\n",
    "import glob\n",
    "import numpy as np\n",
    "import pathlib\n",
    "from numpy import load\n",
    "import lovely_tensors as lt\n",
    "lt.monkey_patch()\n",
    "import tqdm"
   ]
  },
  {
   "cell_type": "code",
   "execution_count": 1,
   "metadata": {},
   "outputs": [
    {
     "name": "stderr",
     "output_type": "stream",
     "text": [
      "/home/kastan/utils/miniconda3/envs/custom_huggingface/lib/python3.8/site-packages/tqdm/auto.py:22: TqdmWarning: IProgress not found. Please update jupyter and ipywidgets. See https://ipywidgets.readthedocs.io/en/stable/user_install.html\n",
      "  from .autonotebook import tqdm as notebook_tqdm\n"
     ]
    }
   ],
   "source": [
    "import jsonlines\n",
    "import os\n",
    "import json\n",
    "import glob\n",
    "import numpy as np\n",
    "import pathlib\n",
    "from numpy import load\n",
    "import torch\n",
    "import lovely_tensors as lt\n",
    "lt.monkey_patch()\n",
    "import tqdm\n",
    "device = \"cuda\" if torch.cuda.is_available() else \"cpu\"\n",
    "# device = \"cpu\""
   ]
  },
  {
   "cell_type": "code",
   "execution_count": 9,
   "metadata": {},
   "outputs": [],
   "source": [
    "# LOAD FINE-TUNED T5\n",
    "from transformers import T5Tokenizer, T5ForConditionalGeneration, T5Model, T5Config\n",
    "from transformers import AutoTokenizer, AutoModelWithLMHead\n",
    "from transformers import OPTForCausalLM\n",
    "\n",
    "# MODEL_VERSION_NAME   = \"opt_yt_pretrain_adamW_1e-3_iter69000\"\n",
    "# TOKENIZER_NAME       = \"facebook/opt-125m\"\n",
    "\n",
    "# BASE_DIR            = '/scratch/bbki/kastanday/whisper'\n",
    "# BASE_DIR            = '/mnt/storage_hdd/thesis/yt_1b_dataset/yt_1b_train'\n",
    "# MODEL_SAVE_PATH     = f'{BASE_DIR}/MODEL_CHECKPOINTS/{MODEL_VERSION_NAME}'\n",
    "\n",
    "TOKENIZER_NAME       = \"google/t5-v1_1-base\"\n",
    "t5     = AutoModelWithLMHead.from_pretrained(\"/mnt/storage_hdd/thesis/MODEL_CHECKPOINTS/T5_labels_are_half_batch_15_adamW_iter622500\").to(device)\n",
    "tokenizer = AutoTokenizer.from_pretrained(TOKENIZER_NAME)"
   ]
  },
  {
   "cell_type": "code",
   "execution_count": 10,
   "metadata": {},
   "outputs": [],
   "source": [
    "# Instantiate clip\n",
    "import clip\n",
    "\n",
    "MODEL_SIZE = 'ViT-L/14@336px'  # Best models are (1st) ViT-L/14@336px and (2nd) ViT-L/14. I don't recommend going lower.  \n",
    "clip_instance, clip_preprocess = clip.load(MODEL_SIZE, device)"
   ]
  },
  {
   "cell_type": "code",
   "execution_count": 11,
   "metadata": {},
   "outputs": [
    {
     "name": "stdout",
     "output_type": "stream",
     "text": [
      "/mnt/storage_ssd/dummy_clip_results_parallel_15 loaded successfully.\n",
      "Dataset(path='/mnt/storage_ssd/dummy_clip_results_parallel_15', tensors=['caption', 'clip_hidden_states', 'pooled_clip_embedding', 'segment_metadata', 'video_filename', 'video_filepath'])\n",
      "\n",
      "        tensor           htype       shape        dtype  compression\n",
      "        -------         -------     -------      -------  ------- \n",
      "        caption          text      (17185, 1)      str     None   \n",
      "  clip_hidden_states     image   (68740, 1:768)  float32    lz4   \n",
      " pooled_clip_embedding   image   (68740, 1:768)  float32    lz4   \n",
      "   segment_metadata      json      (16748, 1)      str      lz4   \n",
      "    video_filename       text      (17185, 1)      str     None   \n",
      "    video_filepath       text      (17185, 1)      str     None   \n",
      "None\n"
     ]
    },
    {
     "data": {
      "text/plain": [
       "(768,)"
      ]
     },
     "execution_count": 11,
     "metadata": {},
     "output_type": "execute_result"
    }
   ],
   "source": [
    "# get standard image and embed with CLIP.\n",
    "import deeplake as dl\n",
    "clip_dataset_path = f'/mnt/storage_ssd/dummy_clip_results_parallel_15'\n",
    "ds = dl.load(clip_dataset_path)\n",
    "print(ds.summary())\n",
    "\n",
    "frame_embedding = ds.pooled_clip_embedding[0].numpy()\n",
    "frame_embedding.shape"
   ]
  },
  {
   "cell_type": "code",
   "execution_count": 17,
   "metadata": {},
   "outputs": [
    {
     "name": "stdout",
     "output_type": "stream",
     "text": [
      "tie, bottle on counter, bottle on counter\n"
     ]
    }
   ],
   "source": [
    "# PROMPT = \"Hey guys welcome back to the channel, \"\n",
    "# PROMPT = \"I REALLY LIKE EATING ASS\"\n",
    "# PROMPT = \"TODAY WE ARE GOING TO\"\n",
    "PROMPT = \"IN THIS VIDEO WE WILL\"\n",
    "# PROMPT = \"THE MOST COMMON WORD IN THE ENGLISH LANGUAGE\"\n",
    "# PROMPT = \"IN THIS VIDEO WE WILL\"\n",
    "# PROMPT = \"I LOVE VIDEO GAMES BECAUSE I LOVE KILLING\"\n",
    "PROMPT = \"The secret to cooking a good burrito is\"\n",
    "\n",
    "\n",
    "# OLD/naive inference\n",
    "# input_ids = tokenizer(PROMPT, return_tensors=\"pt\").input_ids\n",
    "# outputs = model.generate(input_ids)\n",
    "# print(tokenizer.decode(outputs[0]))\n",
    "\n",
    "\n",
    "# Initialize embeddings\n",
    "one_input_shape = [1, 768, 768]\n",
    "att_mask_shape = [1, 768]\n",
    "input_embeds_arr = torch.zeros(one_input_shape, device=device)\n",
    "attn_mask_arr    = torch.zeros(att_mask_shape, device=device)\n",
    "# labels    = torch.zeros(att_mask_shape, dtype=int, device=device)\n",
    "# labels[:] = -100\n",
    "\n",
    "# device = 'cpu'\n",
    "caption_tokenized = clip.tokenize(PROMPT).to(device)\n",
    "with torch.inference_mode():\n",
    "    caption_embedding = clip_instance.encode_text(caption_tokenized)\n",
    "caption_embedding = caption_embedding.reshape((768,))\n",
    "\n",
    "attn_mask_arr[0][0] = 1\n",
    "attn_mask_arr[0][1] = 1\n",
    "attn_mask_arr[0][2] = 1\n",
    "input_embeds_arr[0][0] = torch.tensor(frame_embedding)\n",
    "input_embeds_arr[0][1] = caption_embedding\n",
    "input_embeds_arr[0][2] = caption_embedding\n",
    "\n",
    "# TODO: generate attn_mask_arr, input_embeds_arr\n",
    "\n",
    "output_ids = t5.generate(attention_mask=attn_mask_arr, inputs_embeds=input_embeds_arr, max_length=768, num_beams=10)\n",
    "print(tokenizer.decode(output_ids[0], skip_special_tokens=True))"
   ]
  },
  {
   "cell_type": "code",
   "execution_count": 8,
   "metadata": {},
   "outputs": [
    {
     "name": "stdout",
     "output_type": "stream",
     "text": [
      "/mnt/storage_ssd/dummy_clip_results_parallel_15 loaded successfully.\n",
      "Dataset(path='/mnt/storage_ssd/dummy_clip_results_parallel_15', tensors=['caption', 'clip_hidden_states', 'pooled_clip_embedding', 'segment_metadata', 'video_filename', 'video_filepath'])\n",
      "\n",
      "        tensor           htype       shape        dtype  compression\n",
      "        -------         -------     -------      -------  ------- \n",
      "        caption          text      (17185, 1)      str     None   \n",
      "  clip_hidden_states     image   (68740, 1:768)  float32    lz4   \n",
      " pooled_clip_embedding   image   (68740, 1:768)  float32    lz4   \n",
      "   segment_metadata      json      (16748, 1)      str      lz4   \n",
      "    video_filename       text      (17185, 1)      str     None   \n",
      "    video_filepath       text      (17185, 1)      str     None   \n",
      "None\n"
     ]
    },
    {
     "data": {
      "text/plain": [
       "(768,)"
      ]
     },
     "execution_count": 8,
     "metadata": {},
     "output_type": "execute_result"
    }
   ],
   "source": []
  },
  {
   "cell_type": "code",
   "execution_count": null,
   "metadata": {},
   "outputs": [],
   "source": []
  },
  {
   "cell_type": "code",
   "execution_count": 8,
   "metadata": {},
   "outputs": [
    {
     "data": {
      "text/plain": [
       "(768,)"
      ]
     },
     "execution_count": 8,
     "metadata": {},
     "output_type": "execute_result"
    }
   ],
   "source": []
  },
  {
   "cell_type": "code",
   "execution_count": null,
   "metadata": {},
   "outputs": [],
   "source": []
  },
  {
   "attachments": {},
   "cell_type": "markdown",
   "metadata": {},
   "source": [
    "# Trying GPT-2"
   ]
  },
  {
   "attachments": {},
   "cell_type": "markdown",
   "metadata": {},
   "source": [
    "from transformers import GPT2Tokenizer, GPT2Model\n",
    "tokenizer = GPT2Tokenizer.from_pretrained('gpt2')\n",
    "model = GPT2Model.from_pretrained('gpt2')\n",
    "text = \"Replace me by any text you'd like.\"\n",
    "encoded_input = tokenizer(text, return_tensors='pt')\n",
    "output = model(**encoded_input)"
   ]
  },
  {
   "cell_type": "code",
   "execution_count": 1,
   "metadata": {},
   "outputs": [
    {
     "name": "stderr",
     "output_type": "stream",
     "text": [
      "/home/kastan/utils/miniconda3/envs/general_has_everything/lib/python3.9/site-packages/tqdm/auto.py:22: TqdmWarning: IProgress not found. Please update jupyter and ipywidgets. See https://ipywidgets.readthedocs.io/en/stable/user_install.html\n",
      "  from .autonotebook import tqdm as notebook_tqdm\n"
     ]
    }
   ],
   "source": [
    "from transformers import GPT2Tokenizer, GPT2Model, GPT2Config"
   ]
  },
  {
   "cell_type": "code",
   "execution_count": 5,
   "metadata": {},
   "outputs": [
    {
     "data": {
      "text/plain": [
       "GPT2Config {\n",
       "  \"activation_function\": \"gelu_new\",\n",
       "  \"architectures\": [\n",
       "    \"GPT2LMHeadModel\"\n",
       "  ],\n",
       "  \"attn_pdrop\": 0.1,\n",
       "  \"bos_token_id\": 50256,\n",
       "  \"embd_pdrop\": 0.1,\n",
       "  \"eos_token_id\": 50256,\n",
       "  \"initializer_range\": 0.02,\n",
       "  \"layer_norm_epsilon\": 1e-05,\n",
       "  \"model_type\": \"gpt2\",\n",
       "  \"n_ctx\": 1024,\n",
       "  \"n_embd\": 768,\n",
       "  \"n_head\": 12,\n",
       "  \"n_inner\": null,\n",
       "  \"n_layer\": 12,\n",
       "  \"n_positions\": 1024,\n",
       "  \"reorder_and_upcast_attn\": false,\n",
       "  \"resid_pdrop\": 0.1,\n",
       "  \"scale_attn_by_inverse_layer_idx\": false,\n",
       "  \"scale_attn_weights\": true,\n",
       "  \"summary_activation\": null,\n",
       "  \"summary_first_dropout\": 0.1,\n",
       "  \"summary_proj_to_labels\": true,\n",
       "  \"summary_type\": \"cls_index\",\n",
       "  \"summary_use_proj\": true,\n",
       "  \"task_specific_params\": {\n",
       "    \"text-generation\": {\n",
       "      \"do_sample\": true,\n",
       "      \"max_length\": 50\n",
       "    }\n",
       "  },\n",
       "  \"transformers_version\": \"4.24.0\",\n",
       "  \"use_cache\": true,\n",
       "  \"vocab_size\": 50257\n",
       "}"
      ]
     },
     "execution_count": 5,
     "metadata": {},
     "output_type": "execute_result"
    }
   ],
   "source": [
    "GPT2Config.from_pretrained('gpt2')"
   ]
  },
  {
   "cell_type": "code",
   "execution_count": 15,
   "metadata": {},
   "outputs": [
    {
     "data": {
      "text/plain": [
       "'1123 2 3'"
      ]
     },
     "execution_count": 15,
     "metadata": {},
     "output_type": "execute_result"
    }
   ],
   "source": [
    "scene_caption = '1123 2 3 4 5 6 7'.split(\" \")\n",
    "import itertools\n",
    "first_half_of_whisper_caption  = list(itertools.islice(scene_caption, 0, len(scene_caption)//2))\n",
    "second_half_of_whisper_caption = list(itertools.islice(scene_caption, len(scene_caption)//2, None))\n",
    "\" \".join(first_half_of_whisper_caption)"
   ]
  },
  {
   "cell_type": "code",
   "execution_count": 13,
   "metadata": {},
   "outputs": [
    {
     "data": {
      "text/plain": [
       "['4', '5', '6', '7']"
      ]
     },
     "execution_count": 13,
     "metadata": {},
     "output_type": "execute_result"
    }
   ],
   "source": [
    "second_half_of_whisper_caption"
   ]
  },
  {
   "cell_type": "code",
   "execution_count": 20,
   "metadata": {},
   "outputs": [
    {
     "data": {
      "text/plain": [
       "[['1123', '2', '3'], ['4', '5', '6'], ['7']]"
      ]
     },
     "execution_count": 20,
     "metadata": {},
     "output_type": "execute_result"
    }
   ],
   "source": [
    "n = len(scene_caption)//2\n",
    "parts = [scene_caption[i:i+n] for i in range(0, len(scene_caption), n)]\n",
    "parts"
   ]
  },
  {
   "cell_type": "code",
   "execution_count": null,
   "metadata": {},
   "outputs": [],
   "source": []
  }
 ],
 "metadata": {
  "kernelspec": {
   "display_name": "custom_huggingface",
   "language": "python",
   "name": "python3"
  },
  "language_info": {
   "codemirror_mode": {
    "name": "ipython",
    "version": 3
   },
   "file_extension": ".py",
   "mimetype": "text/x-python",
   "name": "python",
   "nbconvert_exporter": "python",
   "pygments_lexer": "ipython3",
   "version": "3.8.13"
  },
  "orig_nbformat": 4,
  "vscode": {
   "interpreter": {
    "hash": "08d608f700504c6b03e88c868d0cc9b143978899209b13a888b26c423352d24d"
   }
  }
 },
 "nbformat": 4,
 "nbformat_minor": 2
}
