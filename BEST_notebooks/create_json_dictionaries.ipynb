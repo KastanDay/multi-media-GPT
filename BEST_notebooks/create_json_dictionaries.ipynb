{
 "cells": [
  {
   "cell_type": "code",
   "execution_count": 12,
   "metadata": {},
   "outputs": [
    {
     "name": "stdout",
     "output_type": "stream",
     "text": [
      "yt_id: 05k0f-fzD0E\n",
      "guess who i ran into prince mickey [Music] oh my your majesty minierella i believe you\n",
      "of course the shoe fits you are the\n",
      "surprise for you because you're such a great friend we all picked out this present just for you [Music]\n",
      "gee minnie you look as pretty as a princess oh mickey you'll always be my prince\n",
      "i could have danced forever i wonder where prince mickey is now where is my prince\n"
     ]
    }
   ],
   "source": [
    "import json\n",
    "f = open('8M_all_captptions_segement_level.json')\n",
    "captions = json.load(f)\n",
    "\n",
    "for yt_id, caption_list in captions.items():\n",
    "  print('yt_id:', yt_id)\n",
    "  print(\"\\n\".join(caption_list))\n",
    "  break"
   ]
  },
  {
   "cell_type": "markdown",
   "metadata": {},
   "source": [
    "## data formatting\n",
    "\n",
    "Pull in caption text from `8M_all_captptions_segement_level.json`\n",
    "Get frame data (embeddings) from `process_frame_level_data.ipynb`\n",
    "Get "
   ]
  },
  {
   "cell_type": "code",
   "execution_count": null,
   "metadata": {},
   "outputs": [],
   "source": [
    "# data format to create:\n",
    "[\n",
    "  {\n",
    "    \"youtube_id\": \"2ZokZgnjrYs\",                         # in frame-level\n",
    "    \"captions\": [<caption_list>],                        # in 8M_all_captptions_segement_level\n",
    "    \"frame_embeddings\":[<frame_embeddings_list>],        # in frame-level\n",
    "    \"audio_embeddings\":[<audio_embeddings_list>],        # in frame-level\n",
    "    \"labels\": [<labels_list>],                           # in frame-level\n",
    "    \"segment_start_times\":[<segment_start_times_list>],  # in frame-level\n",
    "    \"segment_end_times\":[<segment_end_times_list>],      # in frame-level\n",
    "    \"captions_are_missing\": <True/False>,\n",
    "  }\n",
    "]\n"
   ]
  }
 ],
 "metadata": {
  "kernelspec": {
   "display_name": "Python 3.8.13 ('nlp')",
   "language": "python",
   "name": "python3"
  },
  "language_info": {
   "codemirror_mode": {
    "name": "ipython",
    "version": 3
   },
   "file_extension": ".py",
   "mimetype": "text/x-python",
   "name": "python",
   "nbconvert_exporter": "python",
   "pygments_lexer": "ipython3",
   "version": "3.8.13"
  },
  "orig_nbformat": 4,
  "vscode": {
   "interpreter": {
    "hash": "0497ffde1df318912604fec7dc437cf596dddf2ca6f4de129c07bc0ec5975633"
   }
  }
 },
 "nbformat": 4,
 "nbformat_minor": 2
}
