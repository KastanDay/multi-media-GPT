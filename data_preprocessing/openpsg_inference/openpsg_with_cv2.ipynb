{
 "cells": [
  {
   "cell_type": "code",
   "execution_count": 1,
   "metadata": {},
   "outputs": [
    {
     "name": "stderr",
     "output_type": "stream",
     "text": [
      "/home/kastan/utils/miniconda3/envs/openpsg/lib/python3.7/site-packages/tqdm/auto.py:22: TqdmWarning: IProgress not found. Please update jupyter and ipywidgets. See https://ipywidgets.readthedocs.io/en/stable/user_install.html\n",
      "  from .autonotebook import tqdm as notebook_tqdm\n"
     ]
    }
   ],
   "source": [
    "import cv2\n",
    "from matplotlib import pyplot as plt\n",
    "import sys\n",
    "sys.path.append(\"/home/kastan/thesis/video-pretrained-transformer/data_preprocessing/openpsg_inference\")\n",
    "import predict"
   ]
  },
  {
   "cell_type": "code",
   "execution_count": 2,
   "metadata": {},
   "outputs": [
    {
     "name": "stdout",
     "output_type": "stream",
     "text": [
      "/home/kastan/thesis/data/simple_test_data/rick_roll.mp4\n",
      "FPS:  25.0\n"
     ]
    },
    {
     "data": {
      "image/png": "[encoded data removed]",
      "text/plain": [
       "<Figure size 640x480 with 1 Axes>"
      ]
     },
     "metadata": {},
     "output_type": "display_data"
    },
    {
     "name": "stdout",
     "output_type": "stream",
     "text": [
      "load checkpoint from local path: checkpoints/epoch_60.pth\n"
     ]
    },
    {
     "name": "stderr",
     "output_type": "stream",
     "text": [
      "/home/kastan/utils/miniconda3/envs/openpsg/lib/python3.7/site-packages/mmdet/datasets/utils.py:69: UserWarning: \"ImageToTensor\" pipeline is replaced by \"DefaultFormatBundle\" for batch inference. It is recommended to manually replace it in the test data pipeline in your config file.\n",
      "  'data pipeline in your config file.', UserWarning)\n"
     ]
    },
    {
     "name": "stdout",
     "output_type": "stream",
     "text": [
      "[]\n"
     ]
    }
   ],
   "source": [
    "video_name = \"/home/kastan/thesis/data/simple_test_data/rick_roll.mp4\"\n",
    "print(video_name)\n",
    "cap = cv2.VideoCapture(video_name)\n",
    "fps = cap.get(cv2.CAP_PROP_FPS)\n",
    "print(\"FPS: \", fps)\n",
    "\n",
    "frame_width = int(cap.get(3))\n",
    "frame_height = int(cap.get(4))\n",
    "\n",
    "size = (frame_width, frame_height)\n",
    "\n",
    "fourcc = cv2.VideoWriter_fourcc(*'mp4v')\n",
    "result = cv2.VideoWriter('./segment_video.mp4', fourcc, fps, size)\n",
    "\n",
    "timestamps = [cap.get(cv2.CAP_PROP_POS_MSEC)]\n",
    "curr_timestamp = 0.0\n",
    "\n",
    "frames = []\n",
    "cnt = 0\n",
    "\n",
    "while(cap.isOpened()):\n",
    "  cnt += 1\n",
    "  if cnt < 500:\n",
    "    continue\n",
    "  # print(\"function called\")\n",
    "  frame_exists, curr_frame = cap.read()\n",
    "  # display(curr_frame)\n",
    "  \n",
    "  plt.imshow(curr_frame)\n",
    "  plt.show()\n",
    "  \n",
    "  scene_graph_preds = predict.Predictor().predict(image=curr_frame, num_rel=5)\n",
    "  print(scene_graph_preds)\n",
    "  break\n"
   ]
  },
  {
   "cell_type": "code",
   "execution_count": null,
   "metadata": {},
   "outputs": [],
   "source": []
  }
 ],
 "metadata": {
  "kernelspec": {
   "display_name": "openpsg",
   "language": "python",
   "name": "python3"
  },
  "language_info": {
   "codemirror_mode": {
    "name": "ipython",
    "version": 3
   },
   "file_extension": ".py",
   "mimetype": "text/x-python",
   "name": "python",
   "nbconvert_exporter": "python",
   "pygments_lexer": "ipython3",
   "version": "3.7.13"
  },
  "orig_nbformat": 4,
  "vscode": {
   "interpreter": {
    "hash": "1efd3a80e816d44e712b957528b4528cb9b1c1c2374e174198c7d86533bcf7a0"
   }
  }
 },
 "nbformat": 4,
 "nbformat_minor": 2
}
