{
 "cells": [
  {
   "cell_type": "code",
   "execution_count": 17,
   "metadata": {},
   "outputs": [],
   "source": [
    "# import numpy as np\n",
    "# import glob\n",
    "# import jsonlines\n",
    "# import os\n",
    "# from pathlib import Path\n",
    "# import json\n",
    "\n",
    "import os \n",
    "import json\n",
    "import cv2\n",
    "import numpy as np\n",
    "import clip\n",
    "import torch\n",
    "from PIL import Image\n",
    "from tqdm import tqdm\n",
    "import pathlib\n",
    "from pathlib import Path\n",
    "import glob\n",
    "import argparse\n",
    "import json\n",
    "import jsonlines\n",
    "import json_numpy\n",
    "\n",
    "import pandas as pd\n",
    "import pyarrow as pa\n",
    "import time\n",
    "\n",
    "# df = pd.DataFrame({'one': [-1, np.nan, 2.5],\n",
    "#                    'two': ['foo', 'bar', 'baz'],\n",
    "#                    'three': [True, False, True]},\n",
    "#                    index=list('abc'))\n",
    "\n",
    "\n",
    "# table = pa.Table.from_pandas(df)"
   ]
  },
  {
   "cell_type": "code",
   "execution_count": 2,
   "metadata": {},
   "outputs": [],
   "source": [
    "import pyarrow.parquet as pq\n",
    "\n",
    "pq.write_table(table, 'example2.parquet')"
   ]
  },
  {
   "cell_type": "code",
   "execution_count": 5,
   "metadata": {},
   "outputs": [
    {
     "data": {
      "text/html": [
       "<div>\n",
       "<style scoped>\n",
       "    .dataframe tbody tr th:only-of-type {\n",
       "        vertical-align: middle;\n",
       "    }\n",
       "\n",
       "    .dataframe tbody tr th {\n",
       "        vertical-align: top;\n",
       "    }\n",
       "\n",
       "    .dataframe thead th {\n",
       "        text-align: right;\n",
       "    }\n",
       "</style>\n",
       "<table border=\"1\" class=\"dataframe\">\n",
       "  <thead>\n",
       "    <tr style=\"text-align: right;\">\n",
       "      <th></th>\n",
       "      <th>one</th>\n",
       "      <th>two</th>\n",
       "      <th>three</th>\n",
       "    </tr>\n",
       "  </thead>\n",
       "  <tbody>\n",
       "    <tr>\n",
       "      <th>a</th>\n",
       "      <td>-1.0</td>\n",
       "      <td>foo</td>\n",
       "      <td>True</td>\n",
       "    </tr>\n",
       "    <tr>\n",
       "      <th>b</th>\n",
       "      <td>NaN</td>\n",
       "      <td>bar</td>\n",
       "      <td>False</td>\n",
       "    </tr>\n",
       "    <tr>\n",
       "      <th>c</th>\n",
       "      <td>2.5</td>\n",
       "      <td>baz</td>\n",
       "      <td>True</td>\n",
       "    </tr>\n",
       "  </tbody>\n",
       "</table>\n",
       "</div>"
      ],
      "text/plain": [
       "   one  two  three\n",
       "a -1.0  foo   True\n",
       "b  NaN  bar  False\n",
       "c  2.5  baz   True"
      ]
     },
     "execution_count": 5,
     "metadata": {},
     "output_type": "execute_result"
    }
   ],
   "source": [
    "table2 = pq.read_table('example.parquet')\n",
    "table2.to_pandas()"
   ]
  },
  {
   "cell_type": "code",
   "execution_count": 3,
   "metadata": {},
   "outputs": [
    {
     "data": {
      "text/plain": [
       "<pyarrow._parquet.FileMetaData object at 0x7fddc4590040>\n",
       "  created_by: parquet-cpp-arrow version 10.0.0\n",
       "  num_columns: 4\n",
       "  num_rows: 3\n",
       "  num_row_groups: 1\n",
       "  format_version: 2.6\n",
       "  serialized_size: 2576"
      ]
     },
     "execution_count": 3,
     "metadata": {},
     "output_type": "execute_result"
    }
   ],
   "source": [
    "parquet_file = pq.ParquetFile('example.parquet')\n",
    "metadata = parquet_file.metadata\n",
    "metadata"
   ]
  },
  {
   "cell_type": "code",
   "execution_count": 13,
   "metadata": {},
   "outputs": [],
   "source": [
    "video_data_path = '/scratch/bbki/kastanday/whisper/parallel_12'\n",
    "video_input_dir = Path(video_data_path)\n",
    "output_path = str(os.path.join(video_input_dir.parent, video_input_dir.stem + '_clip_output.jsonl'))\n",
    "audio_jsonl = str(os.path.join(video_input_dir.parent, video_input_dir.stem + '_whisper_output.jsonl'))"
   ]
  },
  {
   "cell_type": "code",
   "execution_count": 14,
   "metadata": {},
   "outputs": [
    {
     "data": {
      "text/plain": [
       "'/scratch/bbki/kastanday/whisper/parallel_12_whisper_output.jsonl'"
      ]
     },
     "execution_count": 14,
     "metadata": {},
     "output_type": "execute_result"
    }
   ],
   "source": [
    "audio_jsonl"
   ]
  },
  {
   "cell_type": "code",
   "execution_count": 18,
   "metadata": {},
   "outputs": [
    {
     "ename": "InvalidLineError",
     "evalue": "line contains invalid json: Extra data: line 1 column 271291 (char 271290) (line 13602)",
     "output_type": "error",
     "traceback": [
      "\u001b[0;31m---------------------------------------------------------------------------\u001b[0m",
      "\u001b[0;31mJSONDecodeError\u001b[0m                           Traceback (most recent call last)",
      "File \u001b[0;32m~/.local/lib/python3.8/site-packages/jsonlines/jsonlines.py:308\u001b[0m, in \u001b[0;36mReader.read\u001b[0;34m(self, type, allow_none, skip_empty)\u001b[0m\n\u001b[1;32m    307\u001b[0m \u001b[39mtry\u001b[39;00m:\n\u001b[0;32m--> 308\u001b[0m     value: JSONValue \u001b[39m=\u001b[39m \u001b[39mself\u001b[39;49m\u001b[39m.\u001b[39;49m_loads(line)\n\u001b[1;32m    309\u001b[0m \u001b[39mexcept\u001b[39;00m \u001b[39mValueError\u001b[39;00m \u001b[39mas\u001b[39;00m orig_exc:\n",
      "File \u001b[0;32m/scratch/bbki/kastanday/conda_envs/envs/v3_clip_preprocessing_yt1b/lib/python3.8/json/__init__.py:357\u001b[0m, in \u001b[0;36mloads\u001b[0;34m(s, cls, object_hook, parse_float, parse_int, parse_constant, object_pairs_hook, **kw)\u001b[0m\n\u001b[1;32m    354\u001b[0m \u001b[39mif\u001b[39;00m (\u001b[39mcls\u001b[39m \u001b[39mis\u001b[39;00m \u001b[39mNone\u001b[39;00m \u001b[39mand\u001b[39;00m object_hook \u001b[39mis\u001b[39;00m \u001b[39mNone\u001b[39;00m \u001b[39mand\u001b[39;00m\n\u001b[1;32m    355\u001b[0m         parse_int \u001b[39mis\u001b[39;00m \u001b[39mNone\u001b[39;00m \u001b[39mand\u001b[39;00m parse_float \u001b[39mis\u001b[39;00m \u001b[39mNone\u001b[39;00m \u001b[39mand\u001b[39;00m\n\u001b[1;32m    356\u001b[0m         parse_constant \u001b[39mis\u001b[39;00m \u001b[39mNone\u001b[39;00m \u001b[39mand\u001b[39;00m object_pairs_hook \u001b[39mis\u001b[39;00m \u001b[39mNone\u001b[39;00m \u001b[39mand\u001b[39;00m \u001b[39mnot\u001b[39;00m kw):\n\u001b[0;32m--> 357\u001b[0m     \u001b[39mreturn\u001b[39;00m _default_decoder\u001b[39m.\u001b[39;49mdecode(s)\n\u001b[1;32m    358\u001b[0m \u001b[39mif\u001b[39;00m \u001b[39mcls\u001b[39m \u001b[39mis\u001b[39;00m \u001b[39mNone\u001b[39;00m:\n",
      "File \u001b[0;32m/scratch/bbki/kastanday/conda_envs/envs/v3_clip_preprocessing_yt1b/lib/python3.8/json/decoder.py:340\u001b[0m, in \u001b[0;36mJSONDecoder.decode\u001b[0;34m(self, s, _w)\u001b[0m\n\u001b[1;32m    339\u001b[0m \u001b[39mif\u001b[39;00m end \u001b[39m!=\u001b[39m \u001b[39mlen\u001b[39m(s):\n\u001b[0;32m--> 340\u001b[0m     \u001b[39mraise\u001b[39;00m JSONDecodeError(\u001b[39m\"\u001b[39m\u001b[39mExtra data\u001b[39m\u001b[39m\"\u001b[39m, s, end)\n\u001b[1;32m    341\u001b[0m \u001b[39mreturn\u001b[39;00m obj\n",
      "\u001b[0;31mJSONDecodeError\u001b[0m: Extra data: line 1 column 271291 (char 271290)",
      "\nThe above exception was the direct cause of the following exception:\n",
      "\u001b[0;31mInvalidLineError\u001b[0m                          Traceback (most recent call last)",
      "Cell \u001b[0;32mIn [18], line 13\u001b[0m\n\u001b[1;32m     11\u001b[0m stem_to_whisper \u001b[39m=\u001b[39m {}  \u001b[39m# filename.stem --> whisper_json_object\u001b[39;00m\n\u001b[1;32m     12\u001b[0m \u001b[39mwith\u001b[39;00m jsonlines\u001b[39m.\u001b[39mopen(audio_jsonl) \u001b[39mas\u001b[39;00m reader:\n\u001b[0;32m---> 13\u001b[0m     \u001b[39mfor\u001b[39;00m _, obj \u001b[39min\u001b[39;00m \u001b[39menumerate\u001b[39m(reader):\n\u001b[1;32m     14\u001b[0m         json_objs \u001b[39m=\u001b[39m json\u001b[39m.\u001b[39mloads(obj)\n\u001b[1;32m     15\u001b[0m         \u001b[39mfor\u001b[39;00m json_obj \u001b[39min\u001b[39;00m json_objs:\n",
      "File \u001b[0;32m~/.local/lib/python3.8/site-packages/jsonlines/jsonlines.py:416\u001b[0m, in \u001b[0;36mReader.iter\u001b[0;34m(self, type, allow_none, skip_empty, skip_invalid)\u001b[0m\n\u001b[1;32m    414\u001b[0m \u001b[39mwhile\u001b[39;00m \u001b[39mTrue\u001b[39;00m:\n\u001b[1;32m    415\u001b[0m     \u001b[39mtry\u001b[39;00m:\n\u001b[0;32m--> 416\u001b[0m         \u001b[39myield\u001b[39;00m \u001b[39mself\u001b[39;49m\u001b[39m.\u001b[39;49mread(\n\u001b[1;32m    417\u001b[0m             \u001b[39mtype\u001b[39;49m\u001b[39m=\u001b[39;49m\u001b[39mtype\u001b[39;49m, allow_none\u001b[39m=\u001b[39;49mallow_none, skip_empty\u001b[39m=\u001b[39;49mskip_empty\n\u001b[1;32m    418\u001b[0m         )\n\u001b[1;32m    419\u001b[0m     \u001b[39mexcept\u001b[39;00m InvalidLineError:\n\u001b[1;32m    420\u001b[0m         \u001b[39mif\u001b[39;00m \u001b[39mnot\u001b[39;00m skip_invalid:\n",
      "File \u001b[0;32m~/.local/lib/python3.8/site-packages/jsonlines/jsonlines.py:313\u001b[0m, in \u001b[0;36mReader.read\u001b[0;34m(self, type, allow_none, skip_empty)\u001b[0m\n\u001b[1;32m    309\u001b[0m \u001b[39mexcept\u001b[39;00m \u001b[39mValueError\u001b[39;00m \u001b[39mas\u001b[39;00m orig_exc:\n\u001b[1;32m    310\u001b[0m     exc \u001b[39m=\u001b[39m InvalidLineError(\n\u001b[1;32m    311\u001b[0m         \u001b[39mf\u001b[39m\u001b[39m\"\u001b[39m\u001b[39mline contains invalid json: \u001b[39m\u001b[39m{\u001b[39;00morig_exc\u001b[39m}\u001b[39;00m\u001b[39m\"\u001b[39m, line, lineno\n\u001b[1;32m    312\u001b[0m     )\n\u001b[0;32m--> 313\u001b[0m     \u001b[39mraise\u001b[39;00m exc \u001b[39mfrom\u001b[39;00m \u001b[39morig_exc\u001b[39;00m\n\u001b[1;32m    315\u001b[0m \u001b[39mif\u001b[39;00m value \u001b[39mis\u001b[39;00m \u001b[39mNone\u001b[39;00m:\n\u001b[1;32m    316\u001b[0m     \u001b[39mif\u001b[39;00m allow_none:\n",
      "\u001b[0;31mInvalidLineError\u001b[0m: line contains invalid json: Extra data: line 1 column 271291 (char 271290) (line 13602)"
     ]
    }
   ],
   "source": [
    "video_dir_files = set()\n",
    "stem_to_filename = {}\n",
    "\n",
    "for video_dir_file in glob.glob(os.path.join(video_data_path, '*'), recursive = True):\n",
    "    # print(Path(video_dir_file).stem)\n",
    "    video_dir_files.add(str(Path(video_dir_file).stem))\n",
    "    stem_to_filename[str(Path(video_dir_file).stem)] = video_dir_file\n",
    "\n",
    "start_time = time.monotonic()\n",
    "audio_file_stems = []\n",
    "stem_to_whisper = {}  # filename.stem --> whisper_json_object\n",
    "with jsonlines.open(audio_jsonl) as reader:\n",
    "    for _, obj in enumerate(reader):\n",
    "        json_objs = json.loads(obj)\n",
    "        for json_obj in json_objs:\n",
    "            audio_file_stems.append(json_obj['video_filename_stem'])\n",
    "\n",
    "            if json_obj['video_filename_stem'] not in stem_to_whisper:\n",
    "                stem_to_whisper[json_obj['video_filename_stem']] = []\n",
    "            \n",
    "            stem_to_whisper[json_obj['video_filename_stem']].append(json_obj)\n",
    "\n",
    "print(f\"runtime: {time.monotonic() - start_time:2f} seconds\")\n",
    "stem_to_whisper"
   ]
  },
  {
   "cell_type": "code",
   "execution_count": 19,
   "metadata": {},
   "outputs": [],
   "source": [
    "! cp /scratch/bbki/kastanday/whisper/parallel_12_whisper_output.jsonl /tmp"
   ]
  },
  {
   "cell_type": "code",
   "execution_count": null,
   "metadata": {},
   "outputs": [],
   "source": []
  }
 ],
 "metadata": {
  "kernelspec": {
   "display_name": "Python 3.8.13 ('v3_clip_preprocessing_yt1b')",
   "language": "python",
   "name": "python3"
  },
  "language_info": {
   "codemirror_mode": {
    "name": "ipython",
    "version": 3
   },
   "file_extension": ".py",
   "mimetype": "text/x-python",
   "name": "python",
   "nbconvert_exporter": "python",
   "pygments_lexer": "ipython3",
   "version": "3.8.13"
  },
  "orig_nbformat": 4,
  "vscode": {
   "interpreter": {
    "hash": "6eb6100c75610da3070ca1054b4cce20eed66c5f40697de0f2f8549a9f67965f"
   }
  }
 },
 "nbformat": 4,
 "nbformat_minor": 2
}
