{
 "cells": [
  {
   "cell_type": "code",
   "execution_count": 5,
   "metadata": {},
   "outputs": [],
   "source": [
    "import deeplake as dl\n",
    "\n",
    "BATCH_NAME = 'yt1b-val'\n",
    "# INPUT_DATASET_PATH = f'/mnt/teton/vpt/data/yt-1b_deeplake/feb_25_text_encode_results_{BATCH_NAME}'\n",
    "RESULTS_DATASET_PATH = f'/mnt/teton/vpt/data/yt-1b_deeplake/feb_25_CLIP_encode_results_{BATCH_NAME}'\n"
   ]
  },
  {
   "cell_type": "code",
   "execution_count": 6,
   "metadata": {},
   "outputs": [
    {
     "name": "stdout",
     "output_type": "stream",
     "text": [
      "/mnt/teton/vpt/data/yt-1b_deeplake/feb_25_CLIP_encode_results_yt1b-val loaded successfully.\n",
      "\n",
      "Dataset(path='/mnt/teton/vpt/data/yt-1b_deeplake/feb_25_CLIP_encode_results_yt1b-val', tensors=['caption', 'caption_embedding', 'clip_last_hidden_states', 'clip_pooled_embedding', 'done_text_encode', 'frames', 'segment_metadata', 'timestamp', 'video_filename', 'video_filepath'])\n",
      "\n",
      "         tensor            htype            shape             dtype  compression\n",
      "         -------          -------          -------           -------  ------- \n",
      "         caption           text           (77058, 1)           str     None   \n",
      "    caption_embedding     generic    (77058, 16:73, 1024)    float16   None   \n",
      " clip_last_hidden_states  generic     (77058, 577, 1024)     float32    lz4   \n",
      "  clip_pooled_embedding   generic       (77058, 1024)        float32    lz4   \n",
      "    done_text_encode      generic         (77058, 1)          bool     None   \n",
      "         frames            image   (77058, 360, 176:640, 3)   uint8    jpeg   \n",
      "    segment_metadata       text           (77058, 1)           str     None   \n",
      "        timestamp         generic         (77058, 1)          None      lz4   \n",
      "     video_filename        text           (77058, 1)           str     None   \n",
      "     video_filepath        text           (77058, 1)           str     None   \n"
     ]
    }
   ],
   "source": [
    "ds = dl.load(RESULTS_DATASET_PATH, read_only=False)\n",
    "ds.summary()"
   ]
  },
  {
   "cell_type": "code",
   "execution_count": null,
   "metadata": {},
   "outputs": [],
   "source": [
    "total_errors = 0\n",
    "for i, v in enumerate(ds):\n",
    "  # print(v)\n",
    "  try:\n",
    "    ddd = v.clip_pooled_embedding.numpy()\n",
    "    # ddd = v.clip_last_hidden_states.numpy()\n",
    "  except Exception as e:\n",
    "    # reset all values in this index.\n",
    "    ds[i] = populate_ds_with_zeros(v)\n",
    "    total_errors += 1\n",
    "    print(\"INDEX: \", i, \"error:\", e)\n",
    "\n",
    "print(total_errors) # 41889 for pooled\n",
    "# starting index: 25_861\n",
    "# end index 51613\n",
    "print(ds.max_len)\n",
    "print(ds.min_len)"
   ]
  },
  {
   "cell_type": "code",
   "execution_count": null,
   "metadata": {},
   "outputs": [],
   "source": []
  },
  {
   "attachments": {},
   "cell_type": "markdown",
   "metadata": {},
   "source": [
    "## Potential good solution"
   ]
  },
  {
   "cell_type": "code",
   "execution_count": 7,
   "metadata": {},
   "outputs": [
    {
     "name": "stdout",
     "output_type": "stream",
     "text": []
    },
    {
     "name": "stderr",
     "output_type": "stream",
     "text": [
      "2023-03-06 16:30:33,077\tINFO worker.py:1529 -- Started a local Ray instance. View the dashboard at \u001b[1m\u001b[32mhttp://127.0.0.1:8265 \u001b[39m\u001b[22m\n",
      "Evaluating populate_ds_with_zeros: 100%|██████████| 77058/77058 [10:49<00:00\n"
     ]
    },
    {
     "name": "stdout",
     "output_type": "stream",
     "text": [
      "Dataset(path='/mnt/teton/vpt/data/yt-1b_deeplake/feb_25_CLIP_encode_results_yt1b-val', tensors=['caption', 'caption_embedding', 'clip_last_hidden_states', 'clip_pooled_embedding', 'done_text_encode', 'frames', 'segment_metadata', 'timestamp', 'video_filename', 'video_filepath'])\n",
      "\n",
      "         tensor            htype            shape             dtype  compression\n",
      "         -------          -------          -------           -------  ------- \n",
      "         caption           text           (77058, 1)           str     None   \n",
      "    caption_embedding     generic    (77058, 16:73, 1024)    float16   None   \n",
      " clip_last_hidden_states  generic      (277, 577, 1024)      float32    lz4   \n",
      "  clip_pooled_embedding   generic        (277, 1024)         float32    lz4   \n",
      "    done_text_encode      generic         (77058, 1)          bool     None   \n",
      "         frames            image   (77058, 360, 176:640, 3)   uint8    jpeg   \n",
      "    segment_metadata       text           (77058, 1)           str     None   \n",
      "        timestamp         generic          (277, 1)           None      lz4   \n",
      "     video_filename        text           (77058, 1)           str     None   \n",
      "     video_filepath        text           (77058, 1)           str     None   \n"
     ]
    }
   ],
   "source": [
    "import numpy as np\n",
    "import psutil\n",
    "\n",
    "\n",
    "# PROBLEM. When\n",
    "\n",
    "@dl.compute\n",
    "def populate_ds_with_zeros(sample_in, sample_out):\n",
    "  '''\n",
    "  This is to fix datasets that were somehow corrupted when the program crashed.\n",
    "  I get index errors, so I just reset all tensors that are corrupted.\n",
    "  \n",
    "  \n",
    "  Pre-populate the dataset with zeros of proper shape. This makes it 100x faster to update later via indexing. \n",
    "  '''\n",
    "  try:\n",
    "    # access all data to expose `IndexError: index 3 is out of bounds for axis 0 with size 3`\n",
    "    d = sample_in.clip_pooled_embedding.numpy()\n",
    "    d = sample_in.clip_last_hidden_states.numpy()\n",
    "    d = sample_in.frames.numpy()\n",
    "    d = sample_in.timestamp.numpy()\n",
    "  except Exception as e:\n",
    "    sample_out.clip_pooled_embedding.append(np.zeros(1024, dtype=np.float32))\n",
    "    sample_out.clip_last_hidden_states.append(np.zeros((577, 1024), dtype=np.float32))\n",
    "    sample_out.frames = np.zeros((360, 640, 3), dtype=np.uint8)\n",
    "    sample_out.timestamp.append(float(0))\n",
    "  return sample_out\n",
    "\n",
    "populate_ds_with_zeros().eval(ds, scheduler=\"ray\", num_workers=psutil.cpu_count(), skip_ok=True)\n",
    "ds.summary()"
   ]
  },
  {
   "cell_type": "code",
   "execution_count": null,
   "metadata": {},
   "outputs": [],
   "source": []
  },
  {
   "cell_type": "code",
   "execution_count": null,
   "metadata": {},
   "outputs": [],
   "source": []
  },
  {
   "cell_type": "code",
   "execution_count": null,
   "metadata": {},
   "outputs": [],
   "source": []
  },
  {
   "attachments": {},
   "cell_type": "markdown",
   "metadata": {},
   "source": [
    "## Bfloat16"
   ]
  },
  {
   "cell_type": "code",
   "execution_count": null,
   "metadata": {},
   "outputs": [],
   "source": [
    "import numpy as np\n",
    "import tensorflow as tf\n",
    "\n",
    "bfloat16 = tf.bfloat16.as_numpy_dtype\n",
    "\n",
    "np.array([1.0, 2.0, 3.0], dtype=bfloat16)\n",
    "# array([bfloat16(1), bfloat16(2), bfloat16(3)], dtype=bfloat16)"
   ]
  },
  {
   "cell_type": "code",
   "execution_count": null,
   "metadata": {},
   "outputs": [],
   "source": []
  }
 ],
 "metadata": {
  "kernelspec": {
   "display_name": "vpt",
   "language": "python",
   "name": "python3"
  },
  "language_info": {
   "codemirror_mode": {
    "name": "ipython",
    "version": 3
   },
   "file_extension": ".py",
   "mimetype": "text/x-python",
   "name": "python",
   "nbconvert_exporter": "python",
   "pygments_lexer": "ipython3",
   "version": "3.8.16"
  },
  "orig_nbformat": 4
 },
 "nbformat": 4,
 "nbformat_minor": 2
}
